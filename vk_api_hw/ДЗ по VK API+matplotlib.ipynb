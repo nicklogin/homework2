{
 "cells": [
  {
   "cell_type": "markdown",
   "metadata": {},
   "source": [
    "## 1. Загрузка данных"
   ]
  },
  {
   "cell_type": "markdown",
   "metadata": {},
   "source": [
    "Для выполнения домашнего задания была выбрана группа <a link href=\"https://vk.com/club731\">Star Wars</a>."
   ]
  },
  {
   "cell_type": "code",
   "execution_count": 1,
   "metadata": {
    "collapsed": true
   },
   "outputs": [],
   "source": [
    "import urllib.request\n",
    "import json\n",
    "from Token import token\n",
    "\n",
    "req_string = 'https://api.vk.com/method/wall.get?owner_id=-731&v=5.40&extended=1&fields=bdate,city&access_token='+token+'&count=100'\n"
   ]
  },
  {
   "cell_type": "markdown",
   "metadata": {},
   "source": [
    "Найдём количество постов, выполнив первый запрос:\n"
   ]
  },
  {
   "cell_type": "code",
   "execution_count": 3,
   "metadata": {},
   "outputs": [
    {
     "data": {
      "text/plain": [
       "19421"
      ]
     },
     "execution_count": 3,
     "metadata": {},
     "output_type": "execute_result"
    }
   ],
   "source": [
    "req = urllib.request.Request(req_string)\n",
    "n = json.loads(urllib.request.urlopen(req).read().decode('utf-8'))['response']['count']\n",
    "n"
   ]
  },
  {
   "cell_type": "markdown",
   "metadata": {},
   "source": [
    "Загрузим все посты последовательно через цикл:"
   ]
  },
  {
   "cell_type": "code",
   "execution_count": 4,
   "metadata": {},
   "outputs": [
    {
     "data": {
      "text/plain": [
       "1000"
      ]
     },
     "execution_count": 4,
     "metadata": {},
     "output_type": "execute_result"
    }
   ],
   "source": [
    "def clear_by_id(l):\n",
    "    ##leave only elements with unique ids\n",
    "    ids, out = [], []\n",
    "    for i in l:\n",
    "        if i['id'] not in ids:\n",
    "            ids.append(i)\n",
    "            out.append(i)\n",
    "    return out\n",
    "\n",
    "offset = 0\n",
    "posts = []\n",
    "profiles = []\n",
    "\n",
    "while offset<n:\n",
    "    req = urllib.request.Request(req_string + '&offset=' + str(offset))\n",
    "    result = json.loads(urllib.request.urlopen(req).read().decode('utf-8'))['response']\n",
    "    \n",
    "    posts += result['items']\n",
    "    profiles += result['profiles']\n",
    "    offset += 100\n",
    "    \n",
    "    ##на более мощной домашней машине убрать это ограничение:\n",
    "    if offset == 1000:\n",
    "        break\n",
    "\n",
    "profiles = clear_by_id(profiles)\n",
    "len(posts)"
   ]
  },
  {
   "cell_type": "markdown",
   "metadata": {},
   "source": [
    "Посмотрим на результат:"
   ]
  },
  {
   "cell_type": "code",
   "execution_count": 5,
   "metadata": {},
   "outputs": [
    {
     "data": {
      "text/plain": [
       "[{'attachments': [{'photo': {'access_key': '3ad84a984a1fb09d0e',\n",
       "     'album_id': -7,\n",
       "     'date': 1524244408,\n",
       "     'height': 1080,\n",
       "     'id': 456265738,\n",
       "     'owner_id': -731,\n",
       "     'photo_1280': 'https://pp.userapi.com/c847123/v847123085/2c101/xMMRQj1KUeA.jpg',\n",
       "     'photo_130': 'https://pp.userapi.com/c847123/v847123085/2c0fe/_PAOR15IvZI.jpg',\n",
       "     'photo_2560': 'https://pp.userapi.com/c847123/v847123085/2c102/5zsj4dktsG8.jpg',\n",
       "     'photo_604': 'https://pp.userapi.com/c847123/v847123085/2c0ff/jN8uVLNt-O8.jpg',\n",
       "     'photo_75': 'https://pp.userapi.com/c847123/v847123085/2c0fd/LfSfbS4MKxQ.jpg',\n",
       "     'photo_807': 'https://pp.userapi.com/c847123/v847123085/2c100/eaynWl8EaDs.jpg',\n",
       "     'post_id': 1269668,\n",
       "     'text': '',\n",
       "     'user_id': 100,\n",
       "     'width': 1920},\n",
       "    'type': 'photo'}],\n",
       "  'comments': {'can_post': 1, 'count': 0},\n",
       "  'date': 1524412806,\n",
       "  'from_id': -731,\n",
       "  'id': 1269668,\n",
       "  'likes': {'can_like': 1, 'can_publish': 1, 'count': 0, 'user_likes': 0},\n",
       "  'marked_as_ads': 0,\n",
       "  'owner_id': -731,\n",
       "  'post_source': {'type': 'vk'},\n",
       "  'post_type': 'post',\n",
       "  'reposts': {'count': 0, 'user_reposted': 0},\n",
       "  'signer_id': 114442740,\n",
       "  'text': 'Штурмовики Смерти от Emily Ware. \\n\\n#StarWars #ЗвёздныеВойны #SW #ЗВ #StarWarsArt'},\n",
       " {'attachments': [{'photo': {'access_key': 'eab5339ee335e745ae',\n",
       "     'album_id': -7,\n",
       "     'date': 1524405610,\n",
       "     'height': 1440,\n",
       "     'id': 456265837,\n",
       "     'owner_id': -731,\n",
       "     'photo_1280': 'https://sun1-2.userapi.com/c840634/v840634604/77780/-6F32XLPiT8.jpg',\n",
       "     'photo_130': 'https://sun1-3.userapi.com/c840634/v840634604/7777d/pYk1HcltYe4.jpg',\n",
       "     'photo_2560': 'https://sun1-2.userapi.com/c840634/v840634604/77781/l2QfDKfWWNc.jpg',\n",
       "     'photo_604': 'https://sun1-4.userapi.com/c840634/v840634604/7777e/yb3zLU9nfMk.jpg',\n",
       "     'photo_75': 'https://sun1-3.userapi.com/c840634/v840634604/7777c/31zPabAU0D4.jpg',\n",
       "     'photo_807': 'https://sun1-3.userapi.com/c840634/v840634604/7777f/WiOZCRNJ4R0.jpg',\n",
       "     'text': 'Original: https://topbackgroundwallpaper.com/wp-content/uploads/2018/03/star-wars-clone-trooper-wallpaper-859561.jpg',\n",
       "     'user_id': 100,\n",
       "     'width': 2560},\n",
       "    'type': 'photo'},\n",
       "   {'audio': {'album_id': 2,\n",
       "     'artist': 'Republic Commando',\n",
       "     'date': 1524405084,\n",
       "     'duration': 25,\n",
       "     'genre_id': 18,\n",
       "     'id': 456242236,\n",
       "     'lyrics_id': 6709238,\n",
       "     'owner_id': 2000123515,\n",
       "     'title': 'Vode An',\n",
       "     'url': 'https://vk.com/mp3/audio_api_unavailable.mp3'},\n",
       "    'type': 'audio'}],\n",
       "  'comments': {'can_post': 1, 'count': 49},\n",
       "  'date': 1524405610,\n",
       "  'from_id': -731,\n",
       "  'id': 1269598,\n",
       "  'likes': {'can_like': 1, 'can_publish': 1, 'count': 187, 'user_likes': 0},\n",
       "  'marked_as_ads': 0,\n",
       "  'owner_id': -731,\n",
       "  'post_source': {'type': 'vk'},\n",
       "  'post_type': 'post',\n",
       "  'reposts': {'count': 3, 'user_reposted': 0},\n",
       "  'signer_id': 8334306,\n",
       "  'text': 'Задумывались о том, каким был бы полноценный игровой сериал о Войне Клонов?\\n\\n#StarWars #ЗвёздныеВойны #SW #ЗВ'},\n",
       " {'attachments': [{'photo': {'access_key': '192c8492ea974dd94e',\n",
       "     'album_id': -7,\n",
       "     'date': 1524326459,\n",
       "     'height': 1078,\n",
       "     'id': 456265801,\n",
       "     'owner_id': -731,\n",
       "     'photo_1280': 'https://pp.userapi.com/c7002/v7002316/45fdc/6GXw0K3rB08.jpg',\n",
       "     'photo_130': 'https://pp.userapi.com/c7002/v7002316/45fd9/lIz94h2g21M.jpg',\n",
       "     'photo_2560': 'https://pp.userapi.com/c7002/v7002316/45fdd/IGsP6kqUo7g.jpg',\n",
       "     'photo_604': 'https://pp.userapi.com/c7002/v7002316/45fda/bGrc_V-6eGo.jpg',\n",
       "     'photo_75': 'https://pp.userapi.com/c7002/v7002316/45fd8/kx0cOjCvjOo.jpg',\n",
       "     'photo_807': 'https://pp.userapi.com/c7002/v7002316/45fdb/TylMl0szRvM.jpg',\n",
       "     'text': '',\n",
       "     'user_id': 100,\n",
       "     'width': 2200},\n",
       "    'type': 'photo'}],\n",
       "  'comments': {'can_post': 1, 'count': 9},\n",
       "  'date': 1524402008,\n",
       "  'from_id': -731,\n",
       "  'id': 1269583,\n",
       "  'likes': {'can_like': 1, 'can_publish': 1, 'count': 103, 'user_likes': 0},\n",
       "  'marked_as_ads': 0,\n",
       "  'owner_id': -731,\n",
       "  'post_source': {'platform': 'android', 'type': 'api'},\n",
       "  'post_type': 'post',\n",
       "  'reposts': {'count': 1, 'user_reposted': 0},\n",
       "  'signer_id': 5831458,\n",
       "  'text': 'Персонаж Фиби Уоллер-Бридж - \"Гребаный робот\".(с)\\n\\n#StarWars #ЗвёздныеВойны #SW #ЗВ #Solo #SoloAStarWarsStory #ЗвездныеВойныИсторииХанСоло #StarWarsNews'},\n",
       " {'attachments': [{'photo': {'access_key': '3c2b74251f9a5275be',\n",
       "     'album_id': -7,\n",
       "     'date': 1524322785,\n",
       "     'height': 900,\n",
       "     'id': 456265785,\n",
       "     'owner_id': -731,\n",
       "     'photo_1280': 'https://pp.userapi.com/c830709/v830709381/d2807/hU_ZFTNPchI.jpg',\n",
       "     'photo_130': 'https://pp.userapi.com/c830709/v830709381/d2804/WnSDBE8VB4A.jpg',\n",
       "     'photo_604': 'https://pp.userapi.com/c830709/v830709381/d2805/BDZc7ZsnBT4.jpg',\n",
       "     'photo_75': 'https://pp.userapi.com/c830709/v830709381/d2803/xUYb4ZxM2mE.jpg',\n",
       "     'photo_807': 'https://pp.userapi.com/c830709/v830709381/d2806/eCLTa0_ltfk.jpg',\n",
       "     'text': '',\n",
       "     'user_id': 100,\n",
       "     'width': 720},\n",
       "    'type': 'photo'},\n",
       "   {'photo': {'access_key': '2e8a16539156077eb9',\n",
       "     'album_id': -7,\n",
       "     'date': 1524322785,\n",
       "     'height': 900,\n",
       "     'id': 456265786,\n",
       "     'owner_id': -731,\n",
       "     'photo_1280': 'https://pp.userapi.com/c830709/v830709381/d2819/VHwWPEM7CX0.jpg',\n",
       "     'photo_130': 'https://pp.userapi.com/c830709/v830709381/d2816/uSWzf2yH0p4.jpg',\n",
       "     'photo_604': 'https://pp.userapi.com/c830709/v830709381/d2817/nFjeLDqI_4s.jpg',\n",
       "     'photo_75': 'https://pp.userapi.com/c830709/v830709381/d2815/WJgyVrfKPIo.jpg',\n",
       "     'photo_807': 'https://pp.userapi.com/c830709/v830709381/d2818/8eBmcT8pbvw.jpg',\n",
       "     'text': '',\n",
       "     'user_id': 100,\n",
       "     'width': 720},\n",
       "    'type': 'photo'},\n",
       "   {'photo': {'access_key': '7a6c8a811bb3d900e0',\n",
       "     'album_id': -7,\n",
       "     'date': 1524322785,\n",
       "     'height': 850,\n",
       "     'id': 456265787,\n",
       "     'owner_id': -731,\n",
       "     'photo_1280': 'https://pp.userapi.com/c830709/v830709381/d27d2/PxqOYzhFkZE.jpg',\n",
       "     'photo_130': 'https://pp.userapi.com/c830709/v830709381/d27cf/oXxSCVEBNnA.jpg',\n",
       "     'photo_604': 'https://pp.userapi.com/c830709/v830709381/d27d0/xt70Eb2bpQM.jpg',\n",
       "     'photo_75': 'https://pp.userapi.com/c830709/v830709381/d27ce/mYUKRLp93ho.jpg',\n",
       "     'photo_807': 'https://pp.userapi.com/c830709/v830709381/d27d1/jpqTB2dTtl0.jpg',\n",
       "     'text': '',\n",
       "     'user_id': 100,\n",
       "     'width': 680},\n",
       "    'type': 'photo'},\n",
       "   {'photo': {'access_key': '88998c205e8e401390',\n",
       "     'album_id': -7,\n",
       "     'date': 1524322785,\n",
       "     'height': 1000,\n",
       "     'id': 456265792,\n",
       "     'owner_id': -731,\n",
       "     'photo_1280': 'https://pp.userapi.com/c830709/v830709381/d2810/IeIIuitOi9E.jpg',\n",
       "     'photo_130': 'https://pp.userapi.com/c830709/v830709381/d280d/K1Gcyk3Sbpk.jpg',\n",
       "     'photo_604': 'https://pp.userapi.com/c830709/v830709381/d280e/y7rEXnhdwv0.jpg',\n",
       "     'photo_75': 'https://pp.userapi.com/c830709/v830709381/d280c/mEZLGjaX43E.jpg',\n",
       "     'photo_807': 'https://pp.userapi.com/c830709/v830709381/d280f/jGVwTAM_VDk.jpg',\n",
       "     'text': '',\n",
       "     'user_id': 100,\n",
       "     'width': 800},\n",
       "    'type': 'photo'},\n",
       "   {'photo': {'access_key': '7cf6c79de27adad613',\n",
       "     'album_id': -7,\n",
       "     'date': 1524322785,\n",
       "     'height': 900,\n",
       "     'id': 456265788,\n",
       "     'owner_id': -731,\n",
       "     'photo_1280': 'https://pp.userapi.com/c830709/v830709381/d27c0/kuT-B0HmbD4.jpg',\n",
       "     'photo_130': 'https://pp.userapi.com/c830709/v830709381/d27bd/dRjZGQuJjwU.jpg',\n",
       "     'photo_604': 'https://pp.userapi.com/c830709/v830709381/d27be/9oOAOZd3o1s.jpg',\n",
       "     'photo_75': 'https://pp.userapi.com/c830709/v830709381/d27bc/Mhl2a6p5ur4.jpg',\n",
       "     'photo_807': 'https://pp.userapi.com/c830709/v830709381/d27bf/ORcSC38c714.jpg',\n",
       "     'text': '',\n",
       "     'user_id': 100,\n",
       "     'width': 720},\n",
       "    'type': 'photo'},\n",
       "   {'photo': {'access_key': '28171dc4d5868ec688',\n",
       "     'album_id': -7,\n",
       "     'date': 1524322785,\n",
       "     'height': 900,\n",
       "     'id': 456265789,\n",
       "     'owner_id': -731,\n",
       "     'photo_1280': 'https://pp.userapi.com/c830709/v830709381/d27c9/D8NgIau3aUM.jpg',\n",
       "     'photo_130': 'https://pp.userapi.com/c830709/v830709381/d27c6/iL9Mig_SYic.jpg',\n",
       "     'photo_604': 'https://pp.userapi.com/c830709/v830709381/d27c7/xoAQkQhvquc.jpg',\n",
       "     'photo_75': 'https://pp.userapi.com/c830709/v830709381/d27c5/MJUKyWYehLw.jpg',\n",
       "     'photo_807': 'https://pp.userapi.com/c830709/v830709381/d27c8/3EbU39ZeIjo.jpg',\n",
       "     'text': '',\n",
       "     'user_id': 100,\n",
       "     'width': 720},\n",
       "    'type': 'photo'},\n",
       "   {'photo': {'access_key': 'd3ef5af91d14f2f6f8',\n",
       "     'album_id': -7,\n",
       "     'date': 1524322785,\n",
       "     'height': 850,\n",
       "     'id': 456265790,\n",
       "     'owner_id': -731,\n",
       "     'photo_1280': 'https://pp.userapi.com/c830709/v830709381/d27f5/sIjq2TzCL2E.jpg',\n",
       "     'photo_130': 'https://pp.userapi.com/c830709/v830709381/d27f2/0YTLk5tibpM.jpg',\n",
       "     'photo_604': 'https://pp.userapi.com/c830709/v830709381/d27f3/LdCHHxsaIGc.jpg',\n",
       "     'photo_75': 'https://pp.userapi.com/c830709/v830709381/d27f1/48UzKgntuhE.jpg',\n",
       "     'photo_807': 'https://pp.userapi.com/c830709/v830709381/d27f4/t09g5wmlG38.jpg',\n",
       "     'text': '',\n",
       "     'user_id': 100,\n",
       "     'width': 680},\n",
       "    'type': 'photo'},\n",
       "   {'photo': {'access_key': '4f63e3a905979b6781',\n",
       "     'album_id': -7,\n",
       "     'date': 1524322785,\n",
       "     'height': 825,\n",
       "     'id': 456265791,\n",
       "     'owner_id': -731,\n",
       "     'photo_1280': 'https://pp.userapi.com/c830709/v830709381/d27fe/8qR2QhbKsa8.jpg',\n",
       "     'photo_130': 'https://pp.userapi.com/c830709/v830709381/d27fb/dZ92gdUgu4U.jpg',\n",
       "     'photo_604': 'https://pp.userapi.com/c830709/v830709381/d27fc/oKMAXdcpB4M.jpg',\n",
       "     'photo_75': 'https://pp.userapi.com/c830709/v830709381/d27fa/_TC8HVTg_ng.jpg',\n",
       "     'photo_807': 'https://pp.userapi.com/c830709/v830709381/d27fd/Vy0DFGgL13M.jpg',\n",
       "     'text': '',\n",
       "     'user_id': 100,\n",
       "     'width': 660},\n",
       "    'type': 'photo'}],\n",
       "  'comments': {'can_post': 1, 'count': 3},\n",
       "  'date': 1524398406,\n",
       "  'from_id': -731,\n",
       "  'id': 1269570,\n",
       "  'likes': {'can_like': 1, 'can_publish': 1, 'count': 188, 'user_likes': 0},\n",
       "  'marked_as_ads': 0,\n",
       "  'owner_id': -731,\n",
       "  'post_source': {'type': 'vk'},\n",
       "  'post_type': 'post',\n",
       "  'reposts': {'count': 9, 'user_reposted': 0},\n",
       "  'signer_id': 114442740,\n",
       "  'text': 'Художник Michael Pasquale увеличил свою коллекцию стильных артов к грядущему «Хану Соло»!\\n \\n#StarWars #ЗвёздныеВойны #SW #ЗВ #StarWarsArt'},\n",
       " {'attachments': [{'photo': {'access_key': '45be85f5be37c49502',\n",
       "     'album_id': -7,\n",
       "     'date': 1524322461,\n",
       "     'height': 600,\n",
       "     'id': 456265783,\n",
       "     'owner_id': -731,\n",
       "     'photo_130': 'https://pp.userapi.com/c830709/v830709381/d2775/zExjiynXXGk.jpg',\n",
       "     'photo_604': 'https://pp.userapi.com/c830709/v830709381/d2776/6Ewh8UG-q6E.jpg',\n",
       "     'photo_75': 'https://pp.userapi.com/c830709/v830709381/d2774/NLfE2ASbCdw.jpg',\n",
       "     'text': '',\n",
       "     'user_id': 100,\n",
       "     'width': 500},\n",
       "    'type': 'photo'},\n",
       "   {'photo': {'access_key': '134fa690301ebd2bcc',\n",
       "     'album_id': -7,\n",
       "     'date': 1524322461,\n",
       "     'height': 500,\n",
       "     'id': 456265784,\n",
       "     'owner_id': -731,\n",
       "     'photo_130': 'https://pp.userapi.com/c830709/v830709381/d277c/DYG6t6ec3gc.jpg',\n",
       "     'photo_604': 'https://pp.userapi.com/c830709/v830709381/d277d/L3P1vvmYpk8.jpg',\n",
       "     'photo_75': 'https://pp.userapi.com/c830709/v830709381/d277b/Em4P6AliZpU.jpg',\n",
       "     'text': '',\n",
       "     'user_id': 100,\n",
       "     'width': 500},\n",
       "    'type': 'photo'}],\n",
       "  'comments': {'can_post': 1, 'count': 27},\n",
       "  'date': 1524394804,\n",
       "  'from_id': -731,\n",
       "  'id': 1269539,\n",
       "  'likes': {'can_like': 1, 'can_publish': 1, 'count': 770, 'user_likes': 0},\n",
       "  'marked_as_ads': 0,\n",
       "  'owner_id': -731,\n",
       "  'post_source': {'type': 'vk'},\n",
       "  'post_type': 'post',\n",
       "  'reposts': {'count': 13, 'user_reposted': 0},\n",
       "  'signer_id': 114442740,\n",
       "  'text': 'Наша любимая приквельная парочка! \\n\\n#StarWars #ЗвёздныеВойны #SW #ЗВ #StarWarsArchives'},\n",
       " {'attachments': [{'photo': {'access_key': 'ea60dcee32407dc4d0',\n",
       "     'album_id': -7,\n",
       "     'date': 1524323661,\n",
       "     'height': 900,\n",
       "     'id': 456265799,\n",
       "     'owner_id': -731,\n",
       "     'photo_1280': 'https://pp.userapi.com/c834404/v834404150/121017/V-Nq0n7COSg.jpg',\n",
       "     'photo_130': 'https://pp.userapi.com/c834404/v834404150/121014/MpllqtPH9j4.jpg',\n",
       "     'photo_604': 'https://pp.userapi.com/c834404/v834404150/121015/9mooq5O0iZM.jpg',\n",
       "     'photo_75': 'https://pp.userapi.com/c834404/v834404150/121013/UWh0e1_YqiU.jpg',\n",
       "     'photo_807': 'https://pp.userapi.com/c834404/v834404150/121016/mQcUkYZ8u04.jpg',\n",
       "     'text': '',\n",
       "     'user_id': 100,\n",
       "     'width': 528},\n",
       "    'type': 'photo'},\n",
       "   {'audio': {'album_id': 2,\n",
       "     'artist': 'John Williams',\n",
       "     'content_restricted': 1,\n",
       "     'date': 1524323661,\n",
       "     'duration': 25,\n",
       "     'id': 456241658,\n",
       "     'owner_id': 2000125255,\n",
       "     'title': \"Episode V - The Imperial March (Darth Vader's Theme)\",\n",
       "     'url': ''},\n",
       "    'type': 'audio'}],\n",
       "  'comments': {'can_post': 1, 'count': 19},\n",
       "  'date': 1524391204,\n",
       "  'from_id': -731,\n",
       "  'id': 1269514,\n",
       "  'likes': {'can_like': 1, 'can_publish': 1, 'count': 400, 'user_likes': 0},\n",
       "  'marked_as_ads': 0,\n",
       "  'owner_id': -731,\n",
       "  'post_source': {'type': 'vk'},\n",
       "  'post_type': 'post',\n",
       "  'reposts': {'count': 21, 'user_reposted': 0},\n",
       "  'signer_id': 114442740,\n",
       "  'text': 'Величественный Владыка Вейдер! \\n\\n#StarWars #ЗвёздныеВойны #SW #ЗВ #StarWarsArt'},\n",
       " {'comments': {'can_post': 1, 'count': 20},\n",
       "  'copy_history': [{'attachments': [{'photo': {'access_key': '99137cb5d22a90b8de',\n",
       "       'album_id': -7,\n",
       "       'date': 1524381964,\n",
       "       'height': 576,\n",
       "       'id': 456245025,\n",
       "       'owner_id': -124542858,\n",
       "       'photo_1280': 'https://pp.userapi.com/c846521/v846521666/2d01d/hMFvqD8na9o.jpg',\n",
       "       'photo_130': 'https://pp.userapi.com/c846521/v846521666/2d01a/Rj86k-dNM9A.jpg',\n",
       "       'photo_604': 'https://pp.userapi.com/c846521/v846521666/2d01b/lCwWVvknYUQ.jpg',\n",
       "       'photo_75': 'https://pp.userapi.com/c846521/v846521666/2d019/YRgw3jsZ7lI.jpg',\n",
       "       'photo_807': 'https://pp.userapi.com/c846521/v846521666/2d01c/8FXPWIUJHJM.jpg',\n",
       "       'post_id': 23886,\n",
       "       'text': '',\n",
       "       'user_id': 100,\n",
       "       'width': 1024},\n",
       "      'type': 'photo'}],\n",
       "    'date': 1524387610,\n",
       "    'from_id': -124542858,\n",
       "    'id': 23886,\n",
       "    'owner_id': -124542858,\n",
       "    'post_source': {'type': 'vk'},\n",
       "    'post_type': 'post',\n",
       "    'signer_id': 98274683,\n",
       "    'text': 'Фан концепт загрузочного экрана Джеонозиса, локация \"Фабрики боевых дроидов\" режим \"Герои против Злодеев\", от одного из фанатов. \\n#EAStarWars #StarWarsBattlefrontII #BattlefrontII'}],\n",
       "  'date': 1524389402,\n",
       "  'from_id': -731,\n",
       "  'id': 1269501,\n",
       "  'likes': {'can_like': 1, 'can_publish': 1, 'count': 92, 'user_likes': 0},\n",
       "  'marked_as_ads': 0,\n",
       "  'owner_id': -731,\n",
       "  'post_source': {'type': 'vk'},\n",
       "  'post_type': 'post',\n",
       "  'reposts': {'count': 0, 'user_reposted': 0},\n",
       "  'text': 'Фанарт, но как же это было бы круто.'},\n",
       " {'attachments': [{'photo': {'access_key': '97c4c5fde8bb8f600d',\n",
       "     'album_id': -7,\n",
       "     'date': 1524323363,\n",
       "     'height': 685,\n",
       "     'id': 456265793,\n",
       "     'owner_id': -731,\n",
       "     'photo_1280': 'https://pp.userapi.com/c834404/v834404150/120f7b/HlhEll2iLIY.jpg',\n",
       "     'photo_130': 'https://pp.userapi.com/c834404/v834404150/120f78/GcdmEgIFuVI.jpg',\n",
       "     'photo_604': 'https://pp.userapi.com/c834404/v834404150/120f79/6p2Bvfr4BqM.jpg',\n",
       "     'photo_75': 'https://pp.userapi.com/c834404/v834404150/120f77/H3LQWxVAcSA.jpg',\n",
       "     'photo_807': 'https://pp.userapi.com/c834404/v834404150/120f7a/u06o3M4Zb9w.jpg',\n",
       "     'text': '',\n",
       "     'user_id': 100,\n",
       "     'width': 1000},\n",
       "    'type': 'photo'},\n",
       "   {'photo': {'access_key': 'e7b31ed9dd5d300544',\n",
       "     'album_id': -7,\n",
       "     'date': 1524323363,\n",
       "     'height': 685,\n",
       "     'id': 456265794,\n",
       "     'owner_id': -731,\n",
       "     'photo_1280': 'https://pp.userapi.com/c834404/v834404150/120f8d/-9ZpOA1j8fs.jpg',\n",
       "     'photo_130': 'https://pp.userapi.com/c834404/v834404150/120f8a/SBo_3nBkDEE.jpg',\n",
       "     'photo_604': 'https://pp.userapi.com/c834404/v834404150/120f8b/wi7FpaFLPag.jpg',\n",
       "     'photo_75': 'https://pp.userapi.com/c834404/v834404150/120f89/Wtd4gLHfBDY.jpg',\n",
       "     'photo_807': 'https://pp.userapi.com/c834404/v834404150/120f8c/ACmFKJGEcvE.jpg',\n",
       "     'text': '',\n",
       "     'user_id': 100,\n",
       "     'width': 1000},\n",
       "    'type': 'photo'},\n",
       "   {'photo': {'access_key': 'cbeee08f89cf1d95bf',\n",
       "     'album_id': -7,\n",
       "     'date': 1524323363,\n",
       "     'height': 685,\n",
       "     'id': 456265795,\n",
       "     'owner_id': -731,\n",
       "     'photo_1280': 'https://pp.userapi.com/c834404/v834404150/120f69/mf7aWf32LQA.jpg',\n",
       "     'photo_130': 'https://pp.userapi.com/c834404/v834404150/120f66/IshhZQAK20g.jpg',\n",
       "     'photo_604': 'https://pp.userapi.com/c834404/v834404150/120f67/AkoJhnSZwuI.jpg',\n",
       "     'photo_75': 'https://pp.userapi.com/c834404/v834404150/120f65/l2ICLRVB2ng.jpg',\n",
       "     'photo_807': 'https://pp.userapi.com/c834404/v834404150/120f68/v0F-r4RTMnU.jpg',\n",
       "     'text': '',\n",
       "     'user_id': 100,\n",
       "     'width': 1000},\n",
       "    'type': 'photo'},\n",
       "   {'photo': {'access_key': 'ca1a8b1efc1ca611fd',\n",
       "     'album_id': -7,\n",
       "     'date': 1524323363,\n",
       "     'height': 683,\n",
       "     'id': 456265796,\n",
       "     'owner_id': -731,\n",
       "     'photo_1280': 'https://pp.userapi.com/c834404/v834404150/120f4e/cueQR8-yqos.jpg',\n",
       "     'photo_130': 'https://pp.userapi.com/c834404/v834404150/120f4b/3iDWJYILr8I.jpg',\n",
       "     'photo_604': 'https://pp.userapi.com/c834404/v834404150/120f4c/lfkrcNRBkV8.jpg',\n",
       "     'photo_75': 'https://pp.userapi.com/c834404/v834404150/120f4a/ZQ8LupeIZ94.jpg',\n",
       "     'photo_807': 'https://pp.userapi.com/c834404/v834404150/120f4d/y5VjNSXX-g8.jpg',\n",
       "     'text': '',\n",
       "     'user_id': 100,\n",
       "     'width': 1000},\n",
       "    'type': 'photo'},\n",
       "   {'photo': {'access_key': '845b98fe7305403b46',\n",
       "     'album_id': -7,\n",
       "     'date': 1524323363,\n",
       "     'height': 683,\n",
       "     'id': 456265797,\n",
       "     'owner_id': -731,\n",
       "     'photo_1280': 'https://pp.userapi.com/c834404/v834404150/120f57/K69ovUaUtMs.jpg',\n",
       "     'photo_130': 'https://pp.userapi.com/c834404/v834404150/120f54/706dJvD-vyM.jpg',\n",
       "     'photo_604': 'https://pp.userapi.com/c834404/v834404150/120f55/ruRRthqWlcg.jpg',\n",
       "     'photo_75': 'https://pp.userapi.com/c834404/v834404150/120f53/d6Iv9Cs6uXA.jpg',\n",
       "     'photo_807': 'https://pp.userapi.com/c834404/v834404150/120f56/hllrzBW6I-E.jpg',\n",
       "     'text': '',\n",
       "     'user_id': 100,\n",
       "     'width': 1000},\n",
       "    'type': 'photo'}],\n",
       "  'comments': {'can_post': 1, 'count': 2},\n",
       "  'date': 1524387606,\n",
       "  'from_id': -731,\n",
       "  'id': 1269484,\n",
       "  'likes': {'can_like': 1, 'can_publish': 1, 'count': 382, 'user_likes': 0},\n",
       "  'marked_as_ads': 0,\n",
       "  'owner_id': -731,\n",
       "  'post_source': {'type': 'vk'},\n",
       "  'post_type': 'post',\n",
       "  'reposts': {'count': 17, 'user_reposted': 0},\n",
       "  'signer_id': 114442740,\n",
       "  'text': 'Немного атмосферных декораций со съёмок самых первых Звёздных Войн. \\n\\n#StarWars #ЗвёздныеВойны #SW #ЗВ #StarWarsArchives'},\n",
       " {'attachments': [{'photo': {'access_key': '4106b2703130a569c8',\n",
       "     'album_id': -7,\n",
       "     'date': 1524215477,\n",
       "     'height': 743,\n",
       "     'id': 456265686,\n",
       "     'owner_id': -731,\n",
       "     'photo_130': 'https://pp.userapi.com/c7002/v7002023/471e7/c9x-ton2zBg.jpg',\n",
       "     'photo_604': 'https://pp.userapi.com/c7002/v7002023/471e8/KbxXGPqAKSA.jpg',\n",
       "     'photo_75': 'https://pp.userapi.com/c7002/v7002023/471e6/B7nvfcL36cs.jpg',\n",
       "     'photo_807': 'https://pp.userapi.com/c7002/v7002023/471e9/U9frN3X_ujQ.jpg',\n",
       "     'post_id': 1269472,\n",
       "     'text': '',\n",
       "     'user_id': 100,\n",
       "     'width': 463},\n",
       "    'type': 'photo'}],\n",
       "  'comments': {'can_post': 1, 'count': 10},\n",
       "  'date': 1524384002,\n",
       "  'from_id': -731,\n",
       "  'id': 1269472,\n",
       "  'likes': {'can_like': 1, 'can_publish': 1, 'count': 311, 'user_likes': 0},\n",
       "  'marked_as_ads': 0,\n",
       "  'owner_id': -731,\n",
       "  'post_source': {'platform': 'android', 'type': 'api'},\n",
       "  'post_type': 'post',\n",
       "  'reposts': {'count': 3, 'user_reposted': 0},\n",
       "  'signer_id': 5831458,\n",
       "  'text': 'Вариант обложки для комикса Принцесса Лея N1 (Princess Leia N1)\\nАвтор: Adi Granov\\n\\n#StarWars #ЗвёздныеВойны #SW #ЗВ #StarWarsArt'},\n",
       " {'attachments': [{'photo': {'access_key': '28781c20145335768b',\n",
       "     'album_id': -7,\n",
       "     'date': 1524296329,\n",
       "     'height': 1080,\n",
       "     'id': 456265768,\n",
       "     'owner_id': -731,\n",
       "     'photo_1280': 'https://pp.userapi.com/c7002/v7002646/4712f/bG-iwz0gBIU.jpg',\n",
       "     'photo_130': 'https://pp.userapi.com/c7002/v7002646/4712c/7gGmVjVWDfs.jpg',\n",
       "     'photo_604': 'https://pp.userapi.com/c7002/v7002646/4712d/gngFHqByCTA.jpg',\n",
       "     'photo_75': 'https://pp.userapi.com/c7002/v7002646/4712b/CdO6NF3npBw.jpg',\n",
       "     'photo_807': 'https://pp.userapi.com/c7002/v7002646/4712e/lMWsMhEz4_Y.jpg',\n",
       "     'text': '',\n",
       "     'user_id': 100,\n",
       "     'width': 701},\n",
       "    'type': 'photo'},\n",
       "   {'link': {'description': '',\n",
       "     'target': 'internal',\n",
       "     'title': '',\n",
       "     'url': 'https://vk.com/wall-731_1266373'},\n",
       "    'type': 'link'}],\n",
       "  'comments': {'can_post': 1, 'count': 25},\n",
       "  'date': 1524380406,\n",
       "  'from_id': -731,\n",
       "  'id': 1269452,\n",
       "  'likes': {'can_like': 1, 'can_publish': 1, 'count': 103, 'user_likes': 0},\n",
       "  'marked_as_ads': 0,\n",
       "  'owner_id': -731,\n",
       "  'post_source': {'platform': 'android', 'type': 'api'},\n",
       "  'post_type': 'post',\n",
       "  'reposts': {'count': 2, 'user_reposted': 0},\n",
       "  'signer_id': 5831458,\n",
       "  'text': 'Интересный факт.\\n\\nВ недавнем обновлении информации касательно \"Тысячелетнего Сокола\", мы получили подтверждение его наличия в \"Мести Ситхов\". А это еще раз подтветждает слова Пабло Идальго, что корабль в \"Соло\" далеко не новый, а лишь отражает характер его владельца.\\n\\n#StarWars #ЗвёздныеВойны #SW #ЗВ #Solo #SoloAStarWarsStory #ЗвездныеВойныИсторииХанСоло #StarWarsNews\\n\\nСсылка на слова Пабло Идальго:\\n\\nhttps://vk.com/wall-731_1266373'}]"
      ]
     },
     "execution_count": 5,
     "metadata": {},
     "output_type": "execute_result"
    }
   ],
   "source": [
    "posts[:10]"
   ]
  },
  {
   "cell_type": "code",
   "execution_count": 6,
   "metadata": {},
   "outputs": [
    {
     "data": {
      "text/plain": [
       "[{'bdate': '7.6.1992',\n",
       "  'city': {'id': 2, 'title': 'Санкт-Петербург'},\n",
       "  'first_name': 'Артём',\n",
       "  'id': 5831458,\n",
       "  'last_name': 'Габров'},\n",
       " {'bdate': '9.1.1992',\n",
       "  'city': {'id': 1933924, 'title': 'Praha'},\n",
       "  'first_name': 'Кирилл',\n",
       "  'id': 8334306,\n",
       "  'last_name': 'Завражнов'},\n",
       " {'bdate': '28.11.1996',\n",
       "  'city': {'id': 1057, 'title': 'Львов'},\n",
       "  'first_name': 'Игорь',\n",
       "  'id': 63093455,\n",
       "  'last_name': 'Астахов'},\n",
       " {'bdate': '22.5.1996',\n",
       "  'city': {'id': 1, 'title': 'Москва'},\n",
       "  'first_name': 'Вера',\n",
       "  'id': 73827183,\n",
       "  'last_name': 'Коленикова'},\n",
       " {'bdate': '12.5',\n",
       "  'city': {'id': 2, 'title': 'Санкт-Петербург'},\n",
       "  'first_name': 'Никита',\n",
       "  'id': 98274683,\n",
       "  'last_name': 'Гелохов'},\n",
       " {'bdate': '4.5.1997',\n",
       "  'city': {'id': 25, 'title': 'Барнаул'},\n",
       "  'first_name': 'Бек',\n",
       "  'id': 114442740,\n",
       "  'last_name': 'Усманов'},\n",
       " {'bdate': '18.11.1997',\n",
       "  'city': {'id': 360, 'title': 'Ишимбай'},\n",
       "  'first_name': 'Ильмир',\n",
       "  'id': 178602692,\n",
       "  'last_name': 'Сабитов'},\n",
       " {'bdate': '15.8',\n",
       "  'city': {'id': 314, 'title': 'Киев'},\n",
       "  'first_name': 'Darth',\n",
       "  'id': 288186081,\n",
       "  'last_name': 'Vlader'},\n",
       " {'bdate': '8.10.1988',\n",
       "  'first_name': 'Станислав',\n",
       "  'id': 461796083,\n",
       "  'last_name': 'Лунин'},\n",
       " {'bdate': '7.6.1992',\n",
       "  'city': {'id': 2, 'title': 'Санкт-Петербург'},\n",
       "  'first_name': 'Артём',\n",
       "  'id': 5831458,\n",
       "  'last_name': 'Габров'}]"
      ]
     },
     "execution_count": 6,
     "metadata": {},
     "output_type": "execute_result"
    }
   ],
   "source": [
    "[i for i in profiles if 'bdate' in i][:10]"
   ]
  },
  {
   "cell_type": "markdown",
   "metadata": {},
   "source": [
    "Далее загрузим к каждому посту комментарии:"
   ]
  },
  {
   "cell_type": "code",
   "execution_count": 7,
   "metadata": {
    "collapsed": true
   },
   "outputs": [],
   "source": [
    "comments = dict()\n",
    "comment_req_string = 'https://api.vk.com/method/wall.getComments?owner_id=-731&v=5.72&extended=1&fields=bdate,city&access_token='+token+'&count=100&offset='\n",
    "\n",
    "for post in posts:\n",
    "    offset = 0\n",
    "    count = post['comments']['count']\n",
    "    comments[post['id']] = []\n",
    "    ##эх, жалко в питоне нет goto:\n",
    "    while offset<=count:\n",
    "        req = urllib.request.Request(comment_req_string+str(offset)+'&post_id='+str(post['id']))\n",
    "        result = json.loads(urllib.request.urlopen(req).read().decode('utf-8'))['response']\n",
    "        profiles += result['profiles']\n",
    "        comments[post['id']] += result['items']\n",
    "        offset += 100\n",
    "\n",
    "profiles = clear_by_id(profiles)"
   ]
  },
  {
   "cell_type": "markdown",
   "metadata": {},
   "source": [
    "И посмотрим, что у нас получилось:"
   ]
  },
  {
   "cell_type": "code",
   "execution_count": 8,
   "metadata": {},
   "outputs": [
    {
     "name": "stdout",
     "output_type": "stream",
     "text": [
      "[]\n",
      "[{'id': 1269599, 'from_id': 441806484, 'date': 1524405647, 'text': 'Интересным'}, {'id': 1269600, 'from_id': 185525741, 'date': 1524405682, 'text': 'Дисней что угодно может запороть'}, {'id': 1269601, 'from_id': 64305647, 'date': 1524405686, 'text': 'Есть уже'}, {'id': 1269602, 'from_id': 264803074, 'date': 1524405695, 'text': 'Так хотел продолжение😔'}, {'id': 1269603, 'from_id': 160798399, 'date': 1524405755, 'text': 'Говном, это ведь Дисней'}, {'id': 1269604, 'from_id': 315474639, 'date': 1524405786, 'text': 'Только не войны клонов - самая дерьмовая эпоха - это как взять все недостатки приквелов и свалить в одну кучу\\nЗ.ы. дисней достаточно умны чтобы не заниматься такой херней'}, {'id': 1269605, 'from_id': 95469620, 'date': 1524405795, 'text': '', 'attachments': [{'type': 'audio', 'audio': {'id': 456242008, 'owner_id': 2000125292, 'artist': 'Ash', 'title': 'Clone', 'duration': 25, 'date': 1524405795, 'url': '', 'album_id': 3, 'genre_id': 18, 'is_hq': True, 'content_restricted': 1}}]}, {'id': 1269606, 'from_id': 52941364, 'date': 1524405802, 'text': '> Над франшизой работают в большинстве своем те же люди, что и раньше\\n> Во всем виноват Дисней'}, {'id': 1269607, 'from_id': 383429540, 'date': 1524405809, 'text': 'Фигнёй. У сериалов нет бюджетов фильмов и поэтому никаких масштабных баталий. Будут просто междусабойчики между мелкими группами, а это нереально скучно.'}, {'id': 1269608, 'from_id': 357592593, 'date': 1524405844, 'text': 'Я задумывался о том что может ли Дисней снять фильм о войне клонов'}, {'id': 1269609, 'from_id': 160798399, 'date': 1524405881, 'text': '[id52941364|Рома], разрабы могут быть теми же, но компания-издатель контролирует продукт, и корректирует работу в том направлении, в котором они считают правильно будет развивать франшизу. В болото говна, пока что, ведут.', 'reply_to_user': 52941364, 'reply_to_comment': 1269606}, {'id': 1269610, 'from_id': 114442740, 'date': 1524405900, 'text': 'Времена меняются. Сейчас охотнее могут выделять бюджет именно на сериалы, посмотри, как качество сериалов за последние лет 10 улучшилось.', 'reply_to_user': 383429540, 'reply_to_comment': 1269607}, {'id': 1269611, 'from_id': 52941364, 'date': 1524405958, 'text': '[id160798399|Dmitry], с течением времени, а если честно то с самой первой книги, старая РВ точно так же катилась в болото. Ничего не поменялось.', 'reply_to_user': 160798399, 'reply_to_comment': 1269609}, {'id': 1269612, 'from_id': 263284375, 'date': 1524406006, 'text': '[id383429540|Beqa], я слышал что на сериал по ЗВ дисней выделит очень большой бюджет. Там вроде похожая ситуация что и с сериалом по властелину колец', 'reply_to_user': 383429540, 'reply_to_comment': 1269607}, {'id': 1269613, 'from_id': 383429540, 'date': 1524406009, 'text': '[id114442740|Бек], да, не спорю, что сериалы становятся круче и бюджетнее, но показать космические баталии с графонистой техникой будет нереально на данный момент. Максимум если и снимут о войне клонов, то только о спецотряде каком- нибудь, который выполняет особые задания не участвуя в войне или вроде того.', 'reply_to_user': 114442740, 'reply_to_comment': 1269610}, {'id': 1269615, 'from_id': 335446043, 'date': 1524406050, 'text': 'больше клонов, меньше джедаев и только окопная правда и рейтинг 18+'}, {'id': 1269616, 'from_id': 383429540, 'date': 1524406077, 'text': '[id335446043|Денис], зачем там рейтинг 18+ ?  :)', 'reply_to_user': 335446043, 'reply_to_comment': 1269615}, {'id': 1269617, 'from_id': 263284375, 'date': 1524406091, 'text': 'Это было бы охеренно, но я очень сомневаюсь что будут что-либо снимать не по эпохам оригинальной трилогии и первого ордена'}, {'id': 1269618, 'from_id': 335446043, 'date': 1524406116, 'text': '[id383429540|Beqa], ну блин это модно сейчас😄', 'reply_to_user': 383429540, 'reply_to_comment': 1269616}, {'id': 1269619, 'from_id': 194916910, 'date': 1524406147, 'text': '[id383429540|Beqa], как спецотряд не может участвовать в войне? У спецотрядов всегда ведется война с кем либо', 'reply_to_user': 383429540, 'reply_to_comment': 1269613}, {'id': 1269620, 'from_id': 208384009, 'date': 1524406168, 'text': '[id335446043|Денис], в чем смысл 18+, если...\\n.\\n.\\n.\\nА, ну раз модно, то и вопрос отпал.', 'reply_to_user': 335446043, 'reply_to_comment': 1269615}, {'id': 1269621, 'from_id': 383429540, 'date': 1524406309, 'text': '[id194916910|Ваня], ничего подобного. Они могут быть посланы чисто как агенты республики, убрать кого-то или устроить диверсию, или эвакуировать кого-то. Вот как было в Репаблик командо, когда героев посылали на определённые миссии, где достаточно маленькой группы и воевали они по сути только в начале игры, когда всех клонов на Геонозис послали.', 'reply_to_user': 194916910, 'reply_to_comment': 1269619}, {'id': 1269622, 'from_id': 75827972, 'date': 1524406347, 'text': 'Слова \"полноценность\" и \"сериал\" не совместимы. Ну а если серьёзно - мне кажется Дисней выдоил эпоху войн клонов уже чуть более чем полностью своими убогими детскими рисовалками, и поднять тему войн клонов можно разве что в играх.'}, {'id': 1269623, 'from_id': 383429540, 'date': 1524406387, 'text': '[id75827972|Виталий], что за рисовалки?)', 'reply_to_user': 75827972, 'reply_to_comment': 1269622}, {'id': 1269624, 'from_id': 194916910, 'date': 1524406395, 'text': '[id383429540|Beqa], даже у маленькой группы солдат есть своя война с кем либо', 'reply_to_user': 383429540, 'reply_to_comment': 1269621}, {'id': 1269625, 'from_id': 75827972, 'date': 1524406421, 'text': '[id383429540|Beqa], мульт-сериал', 'reply_to_user': 383429540, 'reply_to_comment': 1269623}, {'id': 1269626, 'from_id': 383429540, 'date': 1524406459, 'text': '[id194916910|Ваня], ну, можно это конечно войной назвать, но скорее локальной. Без масштабов. К примеру война с кортелями преступными, где тоже особо большой бюджет не нужен будет.', 'reply_to_user': 194916910, 'reply_to_comment': 1269624}, {'id': 1269627, 'from_id': 154014897, 'date': 1524406508, 'text': 'Хорошая игра, и музыка топчик'}, {'id': 1269628, 'from_id': 383429540, 'date': 1524406514, 'text': '[id75827972|Виталий], так мульт сериал по клоническим войнам задолго до диснея начался. На сколько я помню, они приобрели права, когда последний сезон уже выходил.', 'reply_to_user': 75827972, 'reply_to_comment': 1269625}, {'id': 1269629, 'from_id': 171829195, 'date': 1524406575, 'text': '[id185525741|Дмитрий], Дисней не снимает фильмы, а издает. Все претензии предъявляйте режиссёрам и сценаристам.', 'reply_to_user': 185525741, 'reply_to_comment': 1269600}, {'id': 1269630, 'from_id': 210641773, 'date': 1524406635, 'text': '[id383429540|Beqa], Это нереально, в любом случае будет участвовать в войне. Ты не прав, причём критически. Любой клон принимал участие в войне. Те же Коммандос, хоть и погибло много в начале войны, из-за того, что их использовали не правильно, они выполняют спец-задания. Они сильно влияют на ход войны. Выражайся правильно и не допускай ошибок.', 'reply_to_user': 383429540, 'reply_to_comment': 1269621}, {'id': 1269631, 'from_id': 27608699, 'date': 1524406793, 'text': 'При нынешнем подходе Диснея это будет стоит очень дорого и выйдет на их будущем стриминг сервисе. Было бы круто. Но есть несколько принципиальных позиций: 1. Рынок ЗВ уже перенасыщен, я не чувствую восторга от выхода приквела о Соло. 2. О ком снимать, если 501 легион уже показали. 3.Сериал должен выходить намного реже, а Дисней на это не пойдёт и будет каждый сезон штамповать разные сериал о ЗВ , если начнёт. Вот и дилемма , Дисней при нынешнем подходе убьёт всё это своим неуёмным желанием встать рядом с Нетфликс.'}, {'id': 1269633, 'from_id': 171829195, 'date': 1524406962, 'text': '[id160798399|Дмитрий], Что это должно значить? У Диснея много хороших фильмов!', 'reply_to_user': 160798399, 'reply_to_comment': 1269603}, {'id': 1269634, 'from_id': 100033240, 'date': 1524406969, 'text': 'Ребят, внимание, ща про дисней пошучу... А, точно, я ведь не дeгенeрат.'}, {'id': 1269635, 'from_id': 160798399, 'date': 1524406988, 'text': '[id171829195|Иван], и столько же говна.', 'reply_to_user': 171829195, 'reply_to_comment': 1269633}, {'id': 1269636, 'from_id': 75827972, 'date': 1524407092, 'text': '[id383429540|Beqa], мой маленький зеленый друг, ты открыл мне глаза! Чтож выходит, что у Лукаса получается убивать свою киновселенную не хуже, чем у всех остальных)', 'reply_to_user': 383429540, 'reply_to_comment': 1269628}, {'id': 1269638, 'from_id': 383429540, 'date': 1524407161, 'text': '[id75827972|Виталий], иронично то, что именно Дисней прикрыл мульт, изначально планировался новый сезон :D :D', 'reply_to_user': 75827972, 'reply_to_comment': 1269636}, {'id': 1269639, 'from_id': 100033240, 'date': 1524407248, 'text': 'Если уж на сериал \"Властелин колец\" нашлось 500 мультов, то и на ЗВ рано или поздно такая сумма найдется, это лишь вопрос времени.'}, {'id': 1269645, 'from_id': 396027643, 'date': 1524407872, 'text': 'Наверное не при участии ЕА'}, {'id': 1269651, 'from_id': 253308, 'date': 1524408479, 'text': 'Я жду хорошую масштабную RTS в духе Dawn of War 3 по клоническим войнам. И чтоб кампания была за обе фракции.'}, {'id': 1269653, 'from_id': 341309684, 'date': 1524408576, 'text': 'Зачем нужен сериал по теме которая уже отлично освещена ? Лучше про старую Республику или древние войны ситхов'}, {'id': 1269655, 'from_id': 103410248, 'date': 1524408633, 'text': '[id383429540|Beqa], ИГра Престолов смотрит на это высказывание с недоумением.', 'reply_to_user': 383429540, 'reply_to_comment': 1269607}, {'id': 1269656, 'from_id': 341309684, 'date': 1524408690, 'text': '[id253308|Максим], По ЗВ RTS в духе Dawn of War сомневаюсь что когда не будь будет а вот Star Wars: Empire at War. 2 было бы круто', 'reply_to_user': 253308, 'reply_to_comment': 1269651}, {'id': 1269657, 'from_id': 103410248, 'date': 1524408836, 'text': 'Если чисто про боевые действия, то есть же аналог Братья по оружию Спилберга. Я не помню, смотрел ли я этот сериал, поэтому трудно оценить годноту такого типа сериалов.'}, {'id': 1269658, 'from_id': 8334306, 'date': 1524409660, 'text': '[id341309684|Лерон], а старая республика плохо освещена? 2 рпг, 1 мморпг, сотня комиксов и книги.', 'reply_to_user': 341309684, 'reply_to_comment': 1269653}, {'id': 1269662, 'from_id': 475357719, 'date': 1524410884, 'text': '[id8334306|Кирилл], мм, можно про то, что было между 6 и 7 эпизодом. Т.к. вообще не освещена.', 'reply_to_user': 8334306, 'reply_to_comment': 1269658}, {'id': 1269664, 'from_id': 449035320, 'date': 1524411666, 'text': '[id383429540|Beqa], а как же быдлофронт и гэлакси эт вор?', 'reply_to_user': 383429540, 'reply_to_comment': 1269607}, {'id': 1269665, 'from_id': 341309684, 'date': 1524412505, 'text': '[id8334306|Кирилл], Там тысячи лет истории а войны клонов 3 года', 'reply_to_user': 8334306, 'reply_to_comment': 1269658}, {'id': 1269666, 'from_id': 11609161, 'date': 1524412562, 'text': 'Он был бы отвратительным'}]\n",
      "[{'id': 1269584, 'from_id': 150528373, 'date': 1524402025, 'text': '', 'attachments': [{'type': 'sticker', 'sticker': {'id': 48, 'product_id': 1, 'photo_64': 'https://vk.com/images/stickers/48/64.png', 'photo_128': 'https://vk.com/images/stickers/48/128.png', 'photo_256': 'https://vk.com/images/stickers/48/256.png', 'photo_352': 'https://vk.com/images/stickers/48/352.png', 'photo_512': 'https://vk.com/images/stickers/48/512.png', 'width': 232, 'height': 256}}]}, {'id': 1269585, 'from_id': 86412654, 'date': 1524402204, 'text': 'Так это был гребаный робот?'}, {'id': 1269587, 'from_id': 467365185, 'date': 1524402286, 'text': 'Зачем она так позорится? Сначала сказала, что вовсе не знала о ЗВ абсолютно НИЧЕГО, даже понятия никакого не имела, кто такие дройды, а сейчас это... Я ее не совсем понимаю'}, {'id': 1269590, 'from_id': 214201189, 'date': 1524402700, 'text': '[id467365185|Глеб], Ахахахха \"позорится\" ахахаха... Хух. Это было смешно...', 'reply_to_user': 467365185, 'reply_to_comment': 1269587, 'attachments': [{'type': 'doc', 'doc': {'id': 291491326, 'owner_id': 147260999, 'title': 'неудержимый смех)))', 'size': 4314361, 'ext': 'gif', 'url': 'https://vk.com/doc147260999_291491326?hash=e8b6a5e00801474478&dl=GA:1524412832:8d0a81a39ce24213d5&api=1&no_preview=1', 'date': 1398160024, 'type': 3, 'preview': {'photo': {'sizes': [{'src': 'https://sun1-2.userapi.com/c834501/u82924308/d9/-3/m_d58f6b4a0b.jpg', 'width': 130, 'height': 65, 'type': 'm'}, {'src': 'https://sun1-2.userapi.com/c834501/u82924308/d9/-3/s_d58f6b4a0b.jpg', 'width': 100, 'height': 50, 'type': 's'}, {'src': 'https://sun1-3.userapi.com/c834501/u82924308/d9/-3/o_d58f6b4a0b.jpg', 'width': 400, 'height': 200, 'type': 'o'}]}, 'video': {'src': 'https://vk.com/doc147260999_291491326?hash=e8b6a5e00801474478&dl=GA:1524412832:8d0a81a39ce24213d5&api=1&mp4=1', 'width': 400, 'height': 200, 'file_size': 149794}}, 'access_key': '98aa915fe7292e8ea8'}}]}, {'id': 1269591, 'from_id': 227265275, 'date': 1524402772, 'text': '[id467365185|Глеб], ну вот. Она не знала, а когда ей сказали что такое дроид, она ответила: так это же грёбаный робот.', 'reply_to_user': 467365185, 'reply_to_comment': 1269587}, {'id': 1269592, 'from_id': 5831458, 'date': 1524403209, 'text': '[id467365185|Глеб], а Натали Портман до сих пор не отличает \"Star Wars \" от \"Star Trek\". А между прочим, снялась в трех фильмах. Она сильнее от этого опозорилась в твоих глазах?🙄', 'reply_to_user': 467365185, 'reply_to_comment': 1269587}, {'id': 1269642, 'from_id': 156249450, 'date': 1524407779, 'text': 'А где такую картинку бы на экран компа взять да с хорошим разрешением?'}, {'id': 1269652, 'from_id': 114442740, 'date': 1524408511, 'text': 'На будущее с компьютера можно открыть фотографию —> вкладка \"еще\" —> \"открыть оригинал\"', 'reply_to_user': 156249450, 'reply_to_comment': 1269642, 'attachments': [{'type': 'doc', 'doc': {'id': 464679945, 'owner_id': 114442740, 'title': 'IGsP6kqUo7g.jpg', 'size': 212725, 'ext': 'jpg', 'url': 'https://vk.com/doc114442740_464679945?hash=d6ae4e918f7431ba3e&dl=GA:1524412832:6039185ccb94f9a9c0&api=1&no_preview=1', 'date': 1524408487, 'type': 4, 'preview': {'photo': {'sizes': [{'src': 'https://sun1-3.userapi.com/c834600/u114442740/d6/-3/m_9573ade6b0.jpg', 'width': 130, 'height': 64, 'type': 'm'}, {'src': 'https://sun1-3.userapi.com/c834600/u114442740/d6/-3/s_9573ade6b0.jpg', 'width': 100, 'height': 49, 'type': 's'}, {'src': 'https://sun1-1.userapi.com/c834600/u114442740/d6/-3/x_9573ade6b0.jpg', 'width': 604, 'height': 296, 'type': 'x'}, {'src': 'https://sun1-1.userapi.com/c834600/u114442740/d6/-3/y_9573ade6b0.jpg', 'width': 807, 'height': 395, 'type': 'y'}, {'src': 'https://sun1-4.userapi.com/c834600/u114442740/d6/-3/z_9573ade6b0.jpg', 'width': 1280, 'height': 627, 'type': 'z'}, {'src': 'https://sun1-4.userapi.com/c834600/u114442740/d6/-3/o_9573ade6b0.jpg', 'width': 2200, 'height': 1078, 'type': 'o'}]}}, 'access_key': 'a0949ec4a2b5370394'}}]}, {'id': 1269659, 'from_id': 208384009, 'date': 1524409705, 'text': '[id156249450|Игорь], правый щелчек мыши по картинке, найти в гугл, картинки, там есть более крупное/мелкое разрешение.', 'reply_to_user': 156249450, 'reply_to_comment': 1269642}]\n",
      "[{'id': 1269571, 'from_id': 174963772, 'date': 1524398952, 'text': 'круто'}, {'id': 1269574, 'from_id': 97258873, 'date': 1524400063, 'text': 'Очень круто'}, {'id': 1269576, 'from_id': 376730547, 'date': 1524400263, 'text': 'А Хан здесь больше на Форда похож, чем на Эренрайка)'}]\n",
      "[{'id': 1269541, 'from_id': 209178207, 'date': 1524395014, 'text': 'Учитывая то, что она во время съемок мутила с актером Оби-Вана, хехе'}, {'id': 1269542, 'from_id': 216113782, 'date': 1524395017, 'text': 'ТЫ ОСЛЕП ОТ ЛЮБВИ?'}, {'id': 1269544, 'from_id': 354598696, 'date': 1524395374, 'text': 'Взгляд у него конечно, как будто он из преисподней вышел)'}, {'id': 1269545, 'from_id': 11712056, 'date': 1524395418, 'text': 'Люк должен был задать Вейдеру вопрос: Кем была моя мать?'}, {'id': 1269549, 'from_id': 9288270, 'date': 1524395782, 'text': '[id354598696|Nasty], уже на тёмной стороне', 'reply_to_user': 354598696, 'reply_to_comment': 1269544}, {'id': 1269550, 'from_id': 39915270, 'date': 1524395854, 'text': 'ненавижу эту парочку!'}, {'id': 1269552, 'from_id': 155091902, 'date': 1524396147, 'text': 'Что-то не вижу здесь Оби-Вана и Квай-Гона'}, {'id': 1269554, 'from_id': 445523295, 'date': 1524396529, 'text': '[id354598696|Nasty], ну да) Лукас в одном интервью говорил, что ему нужны были такие глаза)', 'reply_to_user': 354598696, 'reply_to_comment': 1269544}, {'id': 1269555, 'from_id': 177795145, 'date': 1524396796, 'text': 'Такие милашки)))'}, {'id': 1269557, 'from_id': 77485834, 'date': 1524396992, 'text': 'Просто шаг....На ТЁМНУЮ СТОРОНУЮ'}, {'id': 1269559, 'from_id': 294207847, 'date': 1524397288, 'text': '', 'attachments': [{'type': 'photo', 'photo': {'id': 456265836, 'album_id': -8, 'owner_id': -731, 'user_id': 294207847, 'photo_75': 'https://pp.userapi.com/c7002/v7002048/470ff/cm6OS9lnEco.jpg', 'photo_130': 'https://pp.userapi.com/c7002/v7002048/47100/j_-e6PcUNZ0.jpg', 'photo_604': 'https://pp.userapi.com/c7002/v7002048/47101/3HjYm4NFZQw.jpg', 'photo_807': 'https://pp.userapi.com/c7002/v7002048/47102/heGVC4jkGuo.jpg', 'photo_1280': 'https://pp.userapi.com/c7002/v7002048/47103/cu8Wo0RsfGA.jpg', 'width': 1080, 'height': 940, 'text': '', 'date': 1524397288, 'access_key': '414ae590f49443a95f'}}]}, {'id': 1269561, 'from_id': 118022730, 'date': 1524397358, 'text': 'Тут Кристенсен ещё не знает, что его карьере приходит конец'}, {'id': 1269562, 'from_id': 170954375, 'date': 1524397396, 'text': 'Самая грустная история любви .....'}, {'id': 1269563, 'from_id': 479631709, 'date': 1524397480, 'text': '\"Лгунья! Ты привела его чтобы он убил меня!!!!\" (с) \"Дарт Вейдер\"'}, {'id': 1269565, 'from_id': 382518674, 'date': 1524398097, 'text': '[id209178207|Отец], она уже мутила со своим нынешним мужем', 'reply_to_user': 209178207, 'reply_to_comment': 1269541}, {'id': 1269566, 'from_id': 202515046, 'date': 1524398198, 'text': 'Да.'}, {'id': 1269568, 'from_id': 25553579, 'date': 1524398275, 'text': 'Натусик 😍'}, {'id': 1269569, 'from_id': 1660169, 'date': 1524398338, 'text': 'хмм...а ведь с таким взглядом он подошел бы на роль Пеннивайза :)'}, {'id': 1269573, 'from_id': 416635053, 'date': 1524399396, 'text': 'Какие же они прекрасные😍 моя любимая пара в этом фильме😍😍😍❤'}, {'id': 1269593, 'from_id': 200119347, 'date': 1524403392, 'text': 'Хмм, а где же коменты недофанатов недосиквелов про песок?'}, {'id': 1269614, 'from_id': 99059703, 'date': 1524406011, 'text': '[id416635053|Влада], назови еще одну)', 'reply_to_user': 416635053, 'reply_to_comment': 1269573}, {'id': 1269637, 'from_id': 6945072, 'date': 1524407133, 'text': 'Ну не знаю. У Лукаса не получилось заставить актёров показать искренность. Да и линия натянута очень сильно. Короче, я не верил в их игру и диалоги'}, {'id': 1269641, 'from_id': 315652704, 'date': 1524407676, 'text': '[id118022730|Егор], он сам её и загубил', 'reply_to_user': 118022730, 'reply_to_comment': 1269561}, {'id': 1269646, 'from_id': 118022730, 'date': 1524408110, 'text': '[id315652704|Вася], чем? Я просто не в курсе', 'reply_to_user': 315652704, 'reply_to_comment': 1269641}, {'id': 1269647, 'from_id': 133256427, 'date': 1524408116, 'text': '😌'}, {'id': 1269648, 'from_id': 315652704, 'date': 1524408141, 'text': '[id118022730|Егор], тем, что начал сниматься в фильмах категории \"Б\"', 'reply_to_user': 118022730, 'reply_to_comment': 1269646}, {'id': 1269661, 'from_id': 288456676, 'date': 1524410297, 'text': 'Наша любимая приквельная парочка!', 'attachments': [{'type': 'photo', 'photo': {'id': 456265838, 'album_id': -8, 'owner_id': -731, 'user_id': 288456676, 'photo_75': 'https://pp.userapi.com/c7002/v7002699/46ad5/x9k2zVPEJ2A.jpg', 'photo_130': 'https://pp.userapi.com/c7002/v7002699/46ad6/eBpB7oKTRfY.jpg', 'photo_604': 'https://pp.userapi.com/c7002/v7002699/46ad7/VAyKxy8PmIk.jpg', 'photo_807': 'https://pp.userapi.com/c7002/v7002699/46ad8/pec6MhwDzDk.jpg', 'photo_1280': 'https://pp.userapi.com/c7002/v7002699/46ad9/BFyP3OzBIxY.jpg', 'width': 1280, 'height': 720, 'text': '', 'date': 1524410297, 'access_key': '6736e459360baab518'}}]}]\n",
      "[{'id': 1269516, 'from_id': 26883699, 'date': 1524391397, 'text': '«Великим Ситхов ты станешь «'}, {'id': 1269517, 'from_id': 164064649, 'date': 1524391510, 'text': 'Родное'}, {'id': 1269518, 'from_id': 456733798, 'date': 1524391543, 'text': '', 'attachments': [{'type': 'photo', 'photo': {'id': 456265830, 'album_id': -8, 'owner_id': -731, 'user_id': 456733798, 'photo_75': 'https://pp.userapi.com/c846019/v846019484/311b2/k_kDMImXm-c.jpg', 'photo_130': 'https://pp.userapi.com/c846019/v846019484/311b3/J_rX4S-KnmY.jpg', 'photo_604': 'https://pp.userapi.com/c846019/v846019484/311b4/IyS--Nr9rpM.jpg', 'photo_807': 'https://pp.userapi.com/c846019/v846019484/311b5/qt-NhUbDfSk.jpg', 'width': 376, 'height': 612, 'text': '', 'date': 1524391543, 'access_key': 'a185e3090d3738e5c9'}}]}, {'id': 1269519, 'from_id': 314481624, 'date': 1524391748, 'text': '', 'attachments': [{'type': 'photo', 'photo': {'id': 456265831, 'album_id': -8, 'owner_id': -731, 'user_id': 314481624, 'photo_75': 'https://pp.userapi.com/c845420/v845420731/1f317/tWbI_Ozlla4.jpg', 'photo_130': 'https://pp.userapi.com/c845420/v845420731/1f318/YlLChhvVA5U.jpg', 'photo_604': 'https://pp.userapi.com/c845420/v845420731/1f319/PUi6wrNAKEM.jpg', 'photo_807': 'https://pp.userapi.com/c845420/v845420731/1f31a/7ohrBw6EQTM.jpg', 'photo_1280': 'https://pp.userapi.com/c845420/v845420731/1f31b/Ic4gmVCQ354.jpg', 'photo_2560': 'https://pp.userapi.com/c845420/v845420731/1f31c/tGkdT3QzEus.jpg', 'width': 1437, 'height': 2160, 'text': '', 'date': 1524391748, 'access_key': '31d32ad492377f7d7e'}}]}, {'id': 1269523, 'from_id': 322677585, 'date': 1524392694, 'text': 'Не думаю. Есть Ситх куда опаснее', 'attachments': [{'type': 'photo', 'photo': {'id': 456265832, 'album_id': -8, 'owner_id': -731, 'user_id': 322677585, 'photo_75': 'https://pp.userapi.com/c7002/v7002636/46115/ZYwkoT7fujE.jpg', 'photo_130': 'https://pp.userapi.com/c7002/v7002636/46116/9-ZqqeqtatU.jpg', 'photo_604': 'https://pp.userapi.com/c7002/v7002636/46117/dU91ZmYbf74.jpg', 'photo_807': 'https://pp.userapi.com/c7002/v7002636/46118/wiNmeeJ5v7I.jpg', 'width': 548, 'height': 722, 'text': '', 'date': 1524392694, 'access_key': 'e740f1bbc95e569adb'}}]}, {'id': 1269524, 'from_id': 24211518, 'date': 1524392996, 'text': 'Уже по тексту в посте начинаю угадывать авторов)'}, {'id': 1269525, 'from_id': 137630629, 'date': 1524393177, 'text': '[id322677585|Дмитрий], я лично не верю в эту теорию. Слишком за уши притянуто. Да и сам Джа-Джа в последствии нигде и никак не фигурирует. А вообще ,если не ошибаюсь, Лукас вроде хотел так сделать, но потом передумал.', 'reply_to_user': 322677585, 'reply_to_comment': 1269523}, {'id': 1269526, 'from_id': 114442740, 'date': 1524393259, 'text': 'Фигурирует в \"Последствиях\" Вендига как просто дурачок на Набу, которого все избегают из-за врученных Палпатину полномочий накануне Войны Клонов.', 'reply_to_user': 137630629, 'reply_to_comment': 1269525}, {'id': 1269527, 'from_id': 137630629, 'date': 1524393306, 'text': '[id114442740|Бек], \"в последствии\"=после становления империи', 'reply_to_user': 114442740, 'reply_to_comment': 1269526}, {'id': 1269528, 'from_id': 114442740, 'date': 1524393343, 'text': '> нигде и никак \\n\\nНу и да, эта теория — чистый стёб, не более.', 'reply_to_user': 137630629, 'reply_to_comment': 1269527}, {'id': 1269533, 'from_id': 322677585, 'date': 1524394200, 'text': '[id137630629|Александр], да это просто стёб фанатов, типо ну не может существовать настолько бесполезный и тупой персонаж. И все ради прикола говорят, что он притворяется идиотом и является сильнейшим Ситхом.\\nДаже выпустили две Бинкс пародии на \"Пробуждение Силы\" и \"Изгой Один\". Прикольные кстати🙂', 'reply_to_user': 137630629, 'reply_to_comment': 1269527}, {'id': 1269536, 'from_id': 137630629, 'date': 1524394579, 'text': '[id322677585|Дмитрий], я знаю. Просто некоторые действительно с пеной у рта начинают доказывать что Джа Джа - владыка ситх', 'reply_to_user': 322677585, 'reply_to_comment': 1269533}, {'id': 1269537, 'from_id': 322677585, 'date': 1524394599, 'text': '[id137630629|Александр], это стёб', 'reply_to_user': 137630629, 'reply_to_comment': 1269536}, {'id': 1269540, 'from_id': 1475758, 'date': 1524394873, 'text': 'С мечом что-то явно не то. Пропорции, перспектива. Он больше на волшебную палочку тут похож...'}, {'id': 1269547, 'from_id': 240459760, 'date': 1524395640, 'text': '', 'attachments': [{'type': 'photo', 'photo': {'id': 456265835, 'album_id': -8, 'owner_id': -731, 'user_id': 240459760, 'photo_75': 'https://pp.userapi.com/c7002/v7002691/466fc/hyitHD4HOb4.jpg', 'photo_130': 'https://pp.userapi.com/c7002/v7002691/466fd/xqEAkZUtyTI.jpg', 'photo_604': 'https://pp.userapi.com/c7002/v7002691/466fe/6Ts6XxJgTOk.jpg', 'photo_807': 'https://pp.userapi.com/c7002/v7002691/466ff/Uj4ySUByNNU.jpg', 'photo_1280': 'https://pp.userapi.com/c7002/v7002691/46700/FKWBXzK63w4.jpg', 'photo_2560': 'https://pp.userapi.com/c7002/v7002691/46701/wt7tdPan8g8.jpg', 'width': 1920, 'height': 1080, 'text': '', 'date': 1524395640, 'access_key': 'b288a9444e8546dd41'}}]}, {'id': 1269572, 'from_id': 202515046, 'date': 1524399060, 'text': 'Что- то не верится ,что про него не выйдет сольника ,учитывая значимость этого героя.К тому же фанаты его обожают ,а рядовой зритель легко узнает. Скорее бы вышел такой фильм .'}, {'id': 1269579, 'from_id': 122730294, 'date': 1524400904, 'text': '[id202515046|Эдуард], солник про вейдера это только вопрос времени, собираются с силами, чтобы снять его, так сказать\\nвот только о чём там рассказывать, ведь очень много событий уже описаны в комиксах', 'reply_to_user': 202515046, 'reply_to_comment': 1269572}, {'id': 1269581, 'from_id': 202515046, 'date': 1524401329, 'text': '[id122730294|Kirill], Я о том же ,это действительно вопрос времени .Между 3 и 4 эпизодами прошло около 20 лет.То что описано в новых комиксах, лишь малая часть от этого времени.В фильме точно так же можно показать джедая или группу выживших джедаев ,которые будут пытаться противостоять Вейдеру.Вариантов мне кажется здесь не много .Конечно могут снять фильм между 4 и 5 эпизодами или между 5 и 6 , но думаю это мало вероятно.', 'reply_to_user': 122730294, 'reply_to_comment': 1269579}, {'id': 1269660, 'from_id': 165145068, 'date': 1524410220, 'text': 'Легендарный Лорд Вейдер'}]\n",
      "[{'id': 1269507, 'from_id': 208384009, 'date': 1524389787, 'text': 'Очень маштабно было бы.'}, {'id': 1269508, 'from_id': 63093455, 'date': 1524389906, 'text': 'Просто дайте арену для ГпЗ'}, {'id': 1269509, 'from_id': 244520013, 'date': 1524389974, 'text': 'так Гривуса завезут, нет?'}, {'id': 1269512, 'from_id': 260182694, 'date': 1524390905, 'text': 'У кого-то ещё есть надежды на эту игру? Лол \\nЕА как всегда наобещали и слились.'}, {'id': 1269515, 'from_id': 15643228, 'date': 1524391266, 'text': 'Загрузочные экраны с планетами, разве не в старых баттлефронтах были?'}, {'id': 1269521, 'from_id': 63093455, 'date': 1524392467, 'text': '[id15643228|Андрей], так они и в новом есть.', 'reply_to_user': 15643228, 'reply_to_comment': 1269515}, {'id': 1269522, 'from_id': 63093455, 'date': 1524392498, 'text': '[id260182694|Максим], и что же они наобещали такого? И где они слились после этого?', 'reply_to_user': 260182694, 'reply_to_comment': 1269512}, {'id': 1269529, 'from_id': 260182694, 'date': 1524393575, 'text': '[id63093455|Игорь], сезонны, нормальные обновления. \\n\\nТо, что сейчас есть это просто смешно. Такие обновления за месяц делаются, я уже не говорю про то, что прошло пол года. Выпустили один нормальный сезон и забили. Браво ЕА. И не надо вот говорить, что все будет. Будет максиму ещё сезон или два, а потом они анонсируют 3 батлфронт и будут ныть, что их торопили, как было в случае с 1 частью. И будут кричать, что в 3 части мы учтём все ошибки вхахах. \\nЭтот мусор заслуживает свои оценки.', 'reply_to_user': 63093455, 'reply_to_comment': 1269522, 'attachments': [{'type': 'photo', 'photo': {'id': 456265833, 'album_id': -8, 'owner_id': -731, 'user_id': 260182694, 'photo_75': 'https://pp.userapi.com/c7002/v7002039/47ce6/L1V-cdAEFmo.jpg', 'photo_130': 'https://pp.userapi.com/c7002/v7002039/47ce7/nkSdUhX5U38.jpg', 'photo_604': 'https://pp.userapi.com/c7002/v7002039/47ce8/0nJxmQzbdIk.jpg', 'photo_807': 'https://pp.userapi.com/c7002/v7002039/47ce9/SCiy_46PLYc.jpg', 'photo_1280': 'https://pp.userapi.com/c7002/v7002039/47cea/yrkqgQyhYb8.jpg', 'photo_2560': 'https://pp.userapi.com/c7002/v7002039/47ceb/c3TnjMvm8gs.jpg', 'width': 750, 'height': 1273, 'text': '', 'date': 1524393575, 'access_key': '4a76a050209718d8c2'}}, {'type': 'photo', 'photo': {'id': 456265834, 'album_id': -8, 'owner_id': -731, 'user_id': 260182694, 'photo_75': 'https://pp.userapi.com/c7002/v7002039/47cf0/RfCE1Jq77rE.jpg', 'photo_130': 'https://pp.userapi.com/c7002/v7002039/47cf1/Pw6tS3BBZBk.jpg', 'photo_604': 'https://pp.userapi.com/c7002/v7002039/47cf2/zEBDq6OIEp4.jpg', 'photo_807': 'https://pp.userapi.com/c7002/v7002039/47cf3/fmVjy287efY.jpg', 'photo_1280': 'https://pp.userapi.com/c7002/v7002039/47cf4/I5oEHcpRZWM.jpg', 'photo_2560': 'https://pp.userapi.com/c7002/v7002039/47cf5/Y5WtGZYyWK8.jpg', 'width': 750, 'height': 1294, 'text': '', 'date': 1524393575, 'access_key': '0ade973f30c6e92373'}}]}, {'id': 1269530, 'from_id': 260182694, 'date': 1524393687, 'text': 'Да это хейт, но он полностью оправдан. ЕА пробивает одно дно за другим, в игре просто напросто нет стимула играть ибо контента все ещё нет. Добавили парочку скинов, которые о господи, были ещё в 1 части. \\nЛибо над игрой работает 1,5 человека, либо я даже не знаю.'}, {'id': 1269531, 'from_id': 63093455, 'date': 1524393842, 'text': '[id260182694|Максим], за 60 долларов(сейчас уже даже меньше) ты получаешь весьма большую игру+совершенно бесплатный дополнительный контент к ней. Чего же тут смешного? \\nКак-то зажрались уже.', 'reply_to_user': 260182694, 'reply_to_comment': 1269529}, {'id': 1269532, 'from_id': 135661392, 'date': 1524393996, 'text': '[id260182694|Максим], в мае 2 сезон будет, Либо на днюху у ЗВ либо к Хану Соло. радуйся что хоть бесплатные DLC и обновы.', 'reply_to_user': 260182694, 'reply_to_comment': 1269529}, {'id': 1269534, 'from_id': 260182694, 'date': 1524394286, 'text': '[id63093455|Игорь], >Большую игру \\n>Убогий сюжет  на 4 часа\\n>в среднем 6 стволов на класс \\n\\nЛучше бы они годик ещё над ней поработали, ага. \\nСмешно, но в 1 батлфронт играть интересней даже из-за контрактов Хатта.', 'reply_to_user': 63093455, 'reply_to_comment': 1269531}, {'id': 1269535, 'from_id': 63093455, 'date': 1524394405, 'text': '[id260182694|Максим], сюжет. В бэтлфронте. Ты серьезно? Он в этой серии всегда был плохим и не нужным.\\nНу так с учетом того, что там 4 основных класса, то это достаточно много. \\n\\nАга. Очень интересней играть в игру, где нет баланса. И онлайна.', 'reply_to_user': 260182694, 'reply_to_comment': 1269534}, {'id': 1269538, 'from_id': 260182694, 'date': 1524394718, 'text': '[id63093455|Игорь], >он всегда был плохим и не нужным. \\n>ждать от батлфронта сюжета \\n\\nЭТО ЧТО ЭТО ЗА ЛОГИКА ТАКАЯ?\\n\\nУ них есть шикарная вселенная с возможностью сделать интересную историю, зачем же этой возможностью пользоваться, действительно.\\n\\n В любом шутере можно сделать нормальный сюжет (CoD WaW, CoD4, Wolfenstein New Order и тд), что это за тенденция пилить все для мультиплеера 🤦\\u200d♂️\\nАх да, из сингла же меньше денег можно выкачать.\\n\\nМеня аж трясёт от тех, кто говорит что сюжет всегда плохой и это нормально.', 'reply_to_user': 63093455, 'reply_to_comment': 1269535}, {'id': 1269548, 'from_id': 63093455, 'date': 1524395704, 'text': '[id260182694|Максим], да простоя логика. Удивляться посредственной сюжетной кампании в серии игр, где таковой никогда и не было, так еще и от разработчиков, которые сами специализируются на мултиплеере, а не на одиночных сюжетных играх, очень глупо. \\n\\nАхаха. CoD. Нормальный сюжет. Ахахаха.\\n\\nВульфа не является сетевым шутером, это по умолчанию одиночная игра.\\nBattlefront это франшиза СЕТЕВЫХ шутеров. \\nНет. Это не нормально. Суть в том, что он этой серии игр и не нужен.', 'reply_to_user': 260182694, 'reply_to_comment': 1269538}, {'id': 1269558, 'from_id': 260182694, 'date': 1524397185, 'text': '[id63093455|Игорь], тип в MW плохой сюжет ? \\nЯ тебя понял, не продолжай.', 'reply_to_user': 63093455, 'reply_to_comment': 1269548}, {'id': 1269564, 'from_id': 63093455, 'date': 1524397890, 'text': '[id260182694|Максим], с точки зрения геймплея - нет.\\nС точки зрегия сценария - посредственный военный боевичок категории B. Собственно, как и все КоДы', 'reply_to_user': 260182694, 'reply_to_comment': 1269558}, {'id': 1269640, 'from_id': 62862144, 'date': 1524407667, 'text': 'Ждём в октябре...)'}, {'id': 1269643, 'from_id': 118761391, 'date': 1524407790, 'text': '[id63093455|Игорь], к слову, сюжет и мультиплеер в баттфронт 2 разрабатывали две разные студии, так что заявления того чувака касательно сюжета весьма кстати', 'reply_to_user': 63093455, 'reply_to_comment': 1269548}, {'id': 1269654, 'from_id': 63093455, 'date': 1524408633, 'text': '[id118761391|Виталий], они исполняли лишь техническую часть. Но делалось все под руководством DICE', 'reply_to_user': 118761391, 'reply_to_comment': 1269643}]\n",
      "[{'id': 1269546, 'from_id': 9387751, 'date': 1524395460, 'text': 'Второй кадр из Империи😉'}, {'id': 1269553, 'from_id': 259572297, 'date': 1524396298, 'text': 'Почему я раньше эти великолепные фотографии не видел!'}]\n",
      "[{'id': 1269473, 'from_id': 220409507, 'date': 1524384151, 'text': 'Когда я только на нее посмотрел я подумал что это не Лея, а Падме🤣'}, {'id': 1269480, 'from_id': 233779445, 'date': 1524387164, 'text': 'Помогите р2'}, {'id': 1269494, 'from_id': 226151900, 'date': 1524388893, 'text': 'Я видел одно видео, которое начиналось точно также'}, {'id': 1269497, 'from_id': 180273877, 'date': 1524389285, 'text': 'Вариант забракуют! В новых ЗВ бабы страшные должны, на дочку героини из Баттлфронта 2 без рюмки глаза не смотрят...'}, {'id': 1269499, 'from_id': 139637399, 'date': 1524389353, 'text': 'В фильме была лучше'}, {'id': 1269511, 'from_id': 177795145, 'date': 1524390640, 'text': 'Тут она реально похожа на мать)))'}, {'id': 1269520, 'from_id': 1227148, 'date': 1524392269, 'text': 'Лея😳, что это такое?\\n- Мне были нужны деньги на сопротивление....'}, {'id': 1269560, 'from_id': 177795145, 'date': 1524397348, 'text': 'Я не сильно разбираюсь в дроидах, но тут R2 явно очень доволен)'}, {'id': 1269588, 'from_id': 169063366, 'date': 1524402359, 'text': '[id177795145|Артур], он посинел)', 'reply_to_user': 177795145, 'reply_to_comment': 1269560}, {'id': 1269594, 'from_id': 1055948, 'date': 1524404281, 'text': 'буферки знатные пририсовали'}]\n",
      "[{'id': 1269453, 'from_id': 406379725, 'date': 1524380535, 'text': 'Прежний хозяин чистоплотнее был'}, {'id': 1269454, 'from_id': 361524, 'date': 1524380664, 'text': 'Такое ощущение, что они там костры жгли с Чубаккой, как так можно стены загадить?'}, {'id': 1269455, 'from_id': 188784571, 'date': 1524381474, 'text': 'Не помню его в МС'}, {'id': 1269456, 'from_id': 260769177, 'date': 1524381625, 'text': '[id188784571|Артём], он в одной сцене на дальнем плане был.', 'reply_to_user': 188784571, 'reply_to_comment': 1269455}, {'id': 1269457, 'from_id': 428548989, 'date': 1524381676, 'text': '', 'reply_to_user': 188784571, 'reply_to_comment': 1269455, 'attachments': [{'type': 'photo', 'photo': {'id': 456265824, 'album_id': -8, 'owner_id': -731, 'user_id': 428548989, 'photo_75': 'https://pp.userapi.com/c7002/v7002774/46e7e/3pjytiQPQBE.jpg', 'photo_130': 'https://pp.userapi.com/c7002/v7002774/46e7f/NCX1I0q-WB0.jpg', 'photo_604': 'https://pp.userapi.com/c7002/v7002774/46e80/wGQV4R_1Eig.jpg', 'photo_807': 'https://pp.userapi.com/c7002/v7002774/46e81/CQw9mGikDFs.jpg', 'photo_1280': 'https://pp.userapi.com/c7002/v7002774/46e82/NQk0pNOOCQg.jpg', 'photo_2560': 'https://pp.userapi.com/c7002/v7002774/46e83/MF2uC2R_Eic.jpg', 'width': 1920, 'height': 1080, 'text': '', 'date': 1524381676, 'access_key': '28b1e8ca0187ed4e95'}}]}, {'id': 1269459, 'from_id': 260769177, 'date': 1524383140, 'text': '[id428548989|Tania], кто в 2018 году смотрит фильмы онлайн на пиратских сайтах?', 'reply_to_user': 428548989, 'reply_to_comment': 1269457}, {'id': 1269460, 'from_id': 10547185, 'date': 1524383163, 'text': 'Ну это уже не новая информация. В принципе, давно известно было.'}, {'id': 1269461, 'from_id': 428548989, 'date': 1524383391, 'text': '[id260769177|Александр], я просто зашла по быстрому, чтобы показать человеку момент. А даже если так, то что такого?', 'reply_to_user': 260769177, 'reply_to_comment': 1269459}, {'id': 1269462, 'from_id': 260769177, 'date': 1524383446, 'text': '[id428548989|Tania], смотреть фильмы на сайтах с рекламой казино в 720р', 'reply_to_user': 428548989, 'reply_to_comment': 1269461}, {'id': 1269464, 'from_id': 428548989, 'date': 1524383580, 'text': '[id260769177|Александр], я же тебе сказала, что я зашла по быстрому лишь для того, чтобы показать человеку момент из фильма. Как я по твоему должна была поступить? Мне нужно было купить диск и зафоткать оттуда? Или я должна была специально скачивать фильм, чтобы заскринить показать всего один момент?', 'reply_to_user': 260769177, 'reply_to_comment': 1269462}, {'id': 1269465, 'from_id': 370762286, 'date': 1524383641, 'text': '[id260769177|Александр], лол, дак не везде же.', 'reply_to_user': 260769177, 'reply_to_comment': 1269462}, {'id': 1269466, 'from_id': 260769177, 'date': 1524383647, 'text': '[id428548989|Tania], но ты же задала вопрос \"что тут такого?\" вот я и ответил.', 'reply_to_user': 428548989, 'reply_to_comment': 1269464}, {'id': 1269467, 'from_id': 169571295, 'date': 1524383659, 'text': 'Если Сокол действительно так меняет личину, невольно задумываешься, как же он будет выглядеть в IX, будучи в руках Рей.'}, {'id': 1269469, 'from_id': 428548989, 'date': 1524383724, 'text': '[id260769177|Александр], даже если на то пошло, у меня рекламы все равно нет, так что меня этот вопрос не сильно волнует.', 'reply_to_user': 260769177, 'reply_to_comment': 1269466}, {'id': 1269470, 'from_id': 5831458, 'date': 1524383827, 'text': '[id260769177|Александр], раз знаешь про рекламу казино, сам небось балуешься😆😆😆', 'reply_to_user': 260769177, 'reply_to_comment': 1269466}, {'id': 1269471, 'from_id': 383429540, 'date': 1524383959, 'text': '[id260769177|Александр], все фильмы на сайте смотрю. И что?', 'reply_to_user': 260769177, 'reply_to_comment': 1269459}, {'id': 1269475, 'from_id': 44580131, 'date': 1524385258, 'text': '[id406379725|Миша], возможно, первый хозяин был аристократом с кучей денег на приличное обслуживание корабля.', 'reply_to_user': 406379725, 'reply_to_comment': 1269453}, {'id': 1269488, 'from_id': 96435640, 'date': 1524388257, 'text': '[id260769177|Александр], щас бы в 2к18 не знать про Adblock и все такое...', 'reply_to_user': 260769177, 'reply_to_comment': 1269462}, {'id': 1269495, 'from_id': 395320689, 'date': 1524388929, 'text': '[id383429540|Beqa], значит ты гррррязный пират 😆', 'reply_to_user': 383429540, 'reply_to_comment': 1269471}, {'id': 1269496, 'from_id': 383429540, 'date': 1524389125, 'text': '[id395320689|Andrew], арррр, тысячу чертей! :D\\nЕсли я заплатил за фильм в кинотеатре, то на кой мне ещё и доплачивать потом за просмотр дома. Я идиот что-ли :3\\nЗаходишь на сайт нормальный и смотришь, ничего плохого не вижу в этом)', 'reply_to_user': 395320689, 'reply_to_comment': 1269495}, {'id': 1269504, 'from_id': 395320689, 'date': 1524389595, 'text': '[id383429540|Beqa], все , Александр нас раскрыл 🌚', 'reply_to_user': 383429540, 'reply_to_comment': 1269496, 'attachments': [{'type': 'photo', 'photo': {'id': 456265825, 'album_id': -8, 'owner_id': -731, 'user_id': 395320689, 'photo_75': 'https://pp.userapi.com/c7002/v7002579/469e0/WNxFSX8SVP0.jpg', 'photo_130': 'https://pp.userapi.com/c7002/v7002579/469e1/ijdn4jJNUgk.jpg', 'photo_604': 'https://pp.userapi.com/c7002/v7002579/469e2/p1dDjzbivgo.jpg', 'photo_807': 'https://pp.userapi.com/c7002/v7002579/469e3/eqlE0tn57U8.jpg', 'width': 720, 'height': 409, 'text': '', 'date': 1524389595, 'access_key': '4885eab1ad0d7600c7'}}]}, {'id': 1269551, 'from_id': 3148008, 'date': 1524396031, 'text': 'Потом выяснится что это просто переделанный Ebon Hawk из рыцарей старой республики.'}, {'id': 1269575, 'from_id': 38084213, 'date': 1524400250, 'text': '[id260769177|Александр], ну конечно, может быть ошалевший Московский школьник- мажорик в 2018 и тарит с какого нибудь айтюнса фильмы за петьку и наяривает на 4к, но люди то у нас в России простые, и за воздух платить не хотят. Проблемы деньгами нынче другие решаются.', 'reply_to_user': 260769177, 'reply_to_comment': 1269459}, {'id': 1269577, 'from_id': 260769177, 'date': 1524400277, 'text': '[id38084213|Даниил], есть торрент, долбан', 'reply_to_user': 38084213, 'reply_to_comment': 1269575}, {'id': 1269578, 'from_id': 38084213, 'date': 1524400532, 'text': 'Для начала дурь и агрессию из своей глупой головы выбей, потом уже людям по факту высказывай. Торрент😂, да щас, поставлю на закачку с Айпада, подожди'}]\n"
     ]
    }
   ],
   "source": [
    "for i in posts[:10]:\n",
    "    print(comments[i['id']])"
   ]
  },
  {
   "cell_type": "markdown",
   "metadata": {},
   "source": [
    "Сохраним собранные данные на жёсткий диск:"
   ]
  },
  {
   "cell_type": "code",
   "execution_count": 9,
   "metadata": {
    "collapsed": true
   },
   "outputs": [],
   "source": [
    "with open ('posts.json','w',encoding='utf-8') as out:\n",
    "    json.dump(posts,out,ensure_ascii=False)\n",
    "    \n",
    "with open ('comments.json','w',encoding='utf-8') as out:\n",
    "    json.dump(comments,out,ensure_ascii=False)\n",
    "    \n",
    "with open('profiles.json','w',encoding='utf-8') as out:\n",
    "    json.dump(profiles,out,ensure_ascii=False)"
   ]
  },
  {
   "cell_type": "markdown",
   "metadata": {},
   "source": [
    "## 2. Обработка данных"
   ]
  },
  {
   "cell_type": "markdown",
   "metadata": {},
   "source": [
    "Определим функцию для подсчёта числа слов в тексте:"
   ]
  },
  {
   "cell_type": "code",
   "execution_count": 1,
   "metadata": {
    "collapsed": true
   },
   "outputs": [],
   "source": [
    "import re, json, datetime\n",
    "\n",
    "n_words = lambda text: len(re.findall('[а-яА-Я-ёЁ]+',text))"
   ]
  },
  {
   "cell_type": "markdown",
   "metadata": {},
   "source": [
    "Загрузим сохранённые данные:"
   ]
  },
  {
   "cell_type": "code",
   "execution_count": 2,
   "metadata": {
    "collapsed": true
   },
   "outputs": [],
   "source": [
    "with open ('posts.json','r',encoding='utf-8') as inp:\n",
    "    posts = json.load(inp)\n",
    "    \n",
    "with open ('comments.json','r',encoding='utf-8') as inp:\n",
    "    comments = json.load(inp)\n",
    "    \n",
    "with open('profiles.json','r',encoding='utf-8') as inp:\n",
    "    profiles = json.load(inp)"
   ]
  },
  {
   "cell_type": "code",
   "execution_count": 12,
   "metadata": {},
   "outputs": [
    {
     "data": {
      "text/plain": [
       "{'bdate': '28.11.1996',\n",
       " 'city': {'id': 1057, 'title': 'Львов'},\n",
       " 'first_name': 'Игорь',\n",
       " 'id': 63093455,\n",
       " 'last_name': 'Астахов'}"
      ]
     },
     "execution_count": 12,
     "metadata": {},
     "output_type": "execute_result"
    }
   ],
   "source": [
    "profiles[10]"
   ]
  },
  {
   "cell_type": "markdown",
   "metadata": {},
   "source": [
    "Теперь нам нужны только возраст(дата публикации - дата рождения), город и длина текста, вычислим их (Так как в данной группе пользователи не могут оставлять записи на стене, то будем считывать не поле \"from_id\", а поле \"signer_id\")"
   ]
  },
  {
   "cell_type": "code",
   "execution_count": 3,
   "metadata": {},
   "outputs": [
    {
     "data": {
      "text/plain": [
       "[{'age': 21,\n",
       "  'author_id': 114442740,\n",
       "  'city': 'Барнаул',\n",
       "  'id': 1269668,\n",
       "  'length': 5,\n",
       "  'text': 'Штурмовики Смерти от Emily Ware. \\n\\n#StarWars #ЗвёздныеВойны #SW #ЗВ #StarWarsArt'},\n",
       " {'age': 26,\n",
       "  'author_id': 8334306,\n",
       "  'city': 'Praha',\n",
       "  'id': 1269598,\n",
       "  'length': 14,\n",
       "  'text': 'Задумывались о том, каким был бы полноценный игровой сериал о Войне Клонов?\\n\\n#StarWars #ЗвёздныеВойны #SW #ЗВ'},\n",
       " {'age': 26,\n",
       "  'author_id': 5831458,\n",
       "  'city': 'Санкт-Петербург',\n",
       "  'id': 1269583,\n",
       "  'length': 10,\n",
       "  'text': 'Персонаж Фиби Уоллер-Бридж - \"Гребаный робот\".(с)\\n\\n#StarWars #ЗвёздныеВойны #SW #ЗВ #Solo #SoloAStarWarsStory #ЗвездныеВойныИсторииХанСоло #StarWarsNews'},\n",
       " {'age': 21,\n",
       "  'author_id': 114442740,\n",
       "  'city': 'Барнаул',\n",
       "  'id': 1269570,\n",
       "  'length': 12,\n",
       "  'text': 'Художник Michael Pasquale увеличил свою коллекцию стильных артов к грядущему «Хану Соло»!\\n \\n#StarWars #ЗвёздныеВойны #SW #ЗВ #StarWarsArt'},\n",
       " {'age': 21,\n",
       "  'author_id': 114442740,\n",
       "  'city': 'Барнаул',\n",
       "  'id': 1269539,\n",
       "  'length': 6,\n",
       "  'text': 'Наша любимая приквельная парочка! \\n\\n#StarWars #ЗвёздныеВойны #SW #ЗВ #StarWarsArchives'},\n",
       " {'age': 21,\n",
       "  'author_id': 114442740,\n",
       "  'city': 'Барнаул',\n",
       "  'id': 1269514,\n",
       "  'length': 5,\n",
       "  'text': 'Величественный Владыка Вейдер! \\n\\n#StarWars #ЗвёздныеВойны #SW #ЗВ #StarWarsArt'},\n",
       " {'age': None,\n",
       "  'author_id': 0,\n",
       "  'city': None,\n",
       "  'id': 1269501,\n",
       "  'length': 8,\n",
       "  'text': 'Фанарт, но как же это было бы круто.'},\n",
       " {'age': 21,\n",
       "  'author_id': 114442740,\n",
       "  'city': 'Барнаул',\n",
       "  'id': 1269484,\n",
       "  'length': 11,\n",
       "  'text': 'Немного атмосферных декораций со съёмок самых первых Звёздных Войн. \\n\\n#StarWars #ЗвёздныеВойны #SW #ЗВ #StarWarsArchives'},\n",
       " {'age': 26,\n",
       "  'author_id': 5831458,\n",
       "  'city': 'Санкт-Петербург',\n",
       "  'id': 1269472,\n",
       "  'length': 9,\n",
       "  'text': 'Вариант обложки для комикса Принцесса Лея N1 (Princess Leia N1)\\nАвтор: Adi Granov\\n\\n#StarWars #ЗвёздныеВойны #SW #ЗВ #StarWarsArt'},\n",
       " {'age': 26,\n",
       "  'author_id': 5831458,\n",
       "  'city': 'Санкт-Петербург',\n",
       "  'id': 1269452,\n",
       "  'length': 47,\n",
       "  'text': 'Интересный факт.\\n\\nВ недавнем обновлении информации касательно \"Тысячелетнего Сокола\", мы получили подтверждение его наличия в \"Мести Ситхов\". А это еще раз подтветждает слова Пабло Идальго, что корабль в \"Соло\" далеко не новый, а лишь отражает характер его владельца.\\n\\n#StarWars #ЗвёздныеВойны #SW #ЗВ #Solo #SoloAStarWarsStory #ЗвездныеВойныИсторииХанСоло #StarWarsNews\\n\\nСсылка на слова Пабло Идальго:\\n\\nhttps://vk.com/wall-731_1266373'}]"
      ]
     },
     "execution_count": 3,
     "metadata": {},
     "output_type": "execute_result"
    }
   ],
   "source": [
    "get_byear = lambda s: int(s[s.rfind('.')+1:]) if s.count('.')==2 else 0\n",
    "\n",
    "def get_profile(id):\n",
    "    for i in profiles:\n",
    "        if i['id'] == id:\n",
    "            return i\n",
    "\n",
    "def extract_data(item,get_author_id):\n",
    "    id = item['id']\n",
    "    text = item['text']\n",
    "    author_id = get_author_id(item)\n",
    "    length = n_words(item['text'])\n",
    "    if author_id > 0:\n",
    "        profile = get_profile(author_id)\n",
    "        if 'city' in profile:\n",
    "            city = profile['city']['title']\n",
    "        else:\n",
    "            city = None\n",
    "        if 'bdate' in profile:\n",
    "            byear = get_byear(profile['bdate'])\n",
    "            if byear:\n",
    "                age = datetime.datetime.fromtimestamp(item['date']).year - byear\n",
    "            else:\n",
    "                age = None\n",
    "        else:\n",
    "            age = None\n",
    "    else:\n",
    "        city, age = None, None\n",
    "    return {'id':id, 'author_id':author_id, 'length':length, 'city':city, 'age':age, 'text': text}\n",
    "\n",
    "processed_posts = list(map(lambda x: extract_data(x,lambda y: y['signer_id'] if 'signer_id' in y else 0),posts))\n",
    "\n",
    "##let's see what we've got:\n",
    "processed_posts[:10]"
   ]
  },
  {
   "cell_type": "code",
   "execution_count": 4,
   "metadata": {},
   "outputs": [
    {
     "data": {
      "text/plain": [
       "[{'age': 20,\n",
       "  'author_id': 150528373,\n",
       "  'city': 'Киев',\n",
       "  'id': 1269584,\n",
       "  'length': 0,\n",
       "  'text': ''},\n",
       " {'age': None,\n",
       "  'author_id': 86412654,\n",
       "  'city': None,\n",
       "  'id': 1269585,\n",
       "  'length': 5,\n",
       "  'text': 'Так это был гребаный робот?'},\n",
       " {'age': 16,\n",
       "  'author_id': 467365185,\n",
       "  'city': 'Реутов',\n",
       "  'id': 1269587,\n",
       "  'length': 30,\n",
       "  'text': 'Зачем она так позорится? Сначала сказала, что вовсе не знала о ЗВ абсолютно НИЧЕГО, даже понятия никакого не имела, кто такие дройды, а сейчас это... Я ее не совсем понимаю'},\n",
       " {'age': 20,\n",
       "  'author_id': 214201189,\n",
       "  'city': None,\n",
       "  'id': 1269590,\n",
       "  'length': 8,\n",
       "  'text': '[id467365185|Глеб], Ахахахха \"позорится\" ахахаха... Хух. Это было смешно...'},\n",
       " {'age': None,\n",
       "  'author_id': 227265275,\n",
       "  'city': 'Алматы',\n",
       "  'id': 1269591,\n",
       "  'length': 20,\n",
       "  'text': '[id467365185|Глеб], ну вот. Она не знала, а когда ей сказали что такое дроид, она ответила: так это же грёбаный робот.'},\n",
       " {'age': 26,\n",
       "  'author_id': 5831458,\n",
       "  'city': 'Санкт-Петербург',\n",
       "  'id': 1269592,\n",
       "  'length': 25,\n",
       "  'text': '[id467365185|Глеб], а Натали Портман до сих пор не отличает \"Star Wars \" от \"Star Trek\". А между прочим, снялась в трех фильмах. Она сильнее от этого опозорилась в твоих глазах?🙄'},\n",
       " {'age': 50,\n",
       "  'author_id': 156249450,\n",
       "  'city': 'Новотроицк',\n",
       "  'id': 1269642,\n",
       "  'length': 13,\n",
       "  'text': 'А где такую картинку бы на экран компа взять да с хорошим разрешением?'},\n",
       " {'age': 21,\n",
       "  'author_id': 114442740,\n",
       "  'city': 'Барнаул',\n",
       "  'id': 1269652,\n",
       "  'length': 11,\n",
       "  'text': 'На будущее с компьютера можно открыть фотографию —> вкладка \"еще\" —> \"открыть оригинал\"'},\n",
       " {'age': None,\n",
       "  'author_id': 208384009,\n",
       "  'city': 'Стрежевой',\n",
       "  'id': 1269659,\n",
       "  'length': 16,\n",
       "  'text': '[id156249450|Игорь], правый щелчек мыши по картинке, найти в гугл, картинки, там есть более крупное/мелкое разрешение.'}]"
      ]
     },
     "execution_count": 4,
     "metadata": {},
     "output_type": "execute_result"
    }
   ],
   "source": [
    "processed_comments = {i:list(map(lambda x: extract_data(x, lambda y: y['from_id']), comments[i])) for i in comments}\n",
    "##let's see what we've got:\n",
    "processed_comments[\"1269583\"]"
   ]
  },
  {
   "cell_type": "markdown",
   "metadata": {},
   "source": [
    "Сохраним полученный результат:"
   ]
  },
  {
   "cell_type": "code",
   "execution_count": 5,
   "metadata": {
    "collapsed": true
   },
   "outputs": [],
   "source": [
    "with open ('processed_posts.json','w',encoding='utf-8') as out:\n",
    "    json.dump(processed_posts, out, ensure_ascii=False)\n",
    "     \n",
    "with open ('processed_comments.json','w',encoding='utf-8') as out:\n",
    "    json.dump(processed_comments, out, ensure_ascii=False)"
   ]
  },
  {
   "cell_type": "markdown",
   "metadata": {},
   "source": [
    "## 3. Построение графиков"
   ]
  },
  {
   "cell_type": "markdown",
   "metadata": {},
   "source": [
    "Откроем сохранённые данные и определим функцию для подсчёта среднего арифметического по массиву:"
   ]
  },
  {
   "cell_type": "code",
   "execution_count": 3,
   "metadata": {
    "collapsed": true
   },
   "outputs": [],
   "source": [
    "import json\n",
    "import matplotlib.pyplot as plt\n",
    "\n",
    "with open ('processed_posts.json','r',encoding='utf-8') as inp:\n",
    "    processed_posts = json.load(inp)\n",
    "    \n",
    "with open ('processed_comments.json','r',encoding='utf-8') as inp:\n",
    "    processed_comments = json.load(inp)\n",
    "    \n",
    "mean = lambda x: sum(x)/len(x) if len(x)>0 else 0"
   ]
  },
  {
   "cell_type": "markdown",
   "metadata": {},
   "source": [
    "Построим график, описывающий, как длина поста соотносится со средней длиной комментариев:"
   ]
  },
  {
   "cell_type": "code",
   "execution_count": 7,
   "metadata": {},
   "outputs": [
    {
     "data": {
      "image/png": "[encoded data removed]",
      "text/plain": [
       "<matplotlib.figure.Figure at 0x12785fd0>"
      ]
     },
     "metadata": {},
     "output_type": "display_data"
    }
   ],
   "source": [
    "X, Y = zip(*[(i['length'],mean([j['length'] for j in processed_comments[str(i['id'])]])) for i in processed_posts])\n",
    "plt.scatter(X,Y)\n",
    "plt.xlabel(\"Длина поста, слов\")\n",
    "plt.ylabel(\"Средняя длина комментария, слов\")\n",
    "plt.savefig('length_correlation.png')\n",
    "plt.show()"
   ]
  },
  {
   "cell_type": "markdown",
   "metadata": {},
   "source": [
    "Построим графики, показывающие среднюю длину поста и комментария для каждого возраста:"
   ]
  },
  {
   "cell_type": "code",
   "execution_count": 45,
   "metadata": {},
   "outputs": [
    {
     "data": {
      "image/png": "[encoded data removed]",
      "text/plain": [
       "<matplotlib.figure.Figure at 0x7e3bba8>"
      ]
     },
     "metadata": {},
     "output_type": "display_data"
    }
   ],
   "source": [
    "ages = set(i['age'] for i in processed_posts if i['age'])\n",
    "X, Y = zip(*[(i,mean([j['length'] for j in processed_posts if j['age']==i])) for i in ages])\n",
    "plt.plot(X,Y)\n",
    "plt.xlabel(\"Возраст, лет\")\n",
    "plt.ylabel(\"Средняя длина поста, слов\")\n",
    "plt.savefig('age-post.png')\n",
    "plt.show()"
   ]
  },
  {
   "cell_type": "code",
   "execution_count": 46,
   "metadata": {},
   "outputs": [
    {
     "data": {
      "image/png": "[encoded data removed]",
      "text/plain": [
       "<matplotlib.figure.Figure at 0xcbe02e8>"
      ]
     },
     "metadata": {},
     "output_type": "display_data"
    }
   ],
   "source": [
    "all_comments = sum_lists([val for key,val in processed_comments.items()])\n",
    "commentator_ages = set(i['age'] for i in all_comments if i['age'])\n",
    "X, Y = zip(*[(i,mean([j['length'] for j in all_comments if j['age']==i])) for i in commentator_ages])\n",
    "plt.plot(X,Y)\n",
    "plt.xlabel(\"Возраст, лет\")\n",
    "plt.ylabel(\"Средняя длина комментария, слов\")\n",
    "plt.savefig('age-comment.png')\n",
    "plt.show()"
   ]
  },
  {
   "cell_type": "markdown",
   "metadata": {},
   "source": [
    "Построим графики, показывающие среднюю длину поста и комментария для каждого города:"
   ]
  },
  {
   "cell_type": "code",
   "execution_count": 47,
   "metadata": {},
   "outputs": [
    {
     "data": {
      "image/png": "[encoded data removed]",
      "text/plain": [
       "<matplotlib.figure.Figure at 0x569ae80>"
      ]
     },
     "metadata": {},
     "output_type": "display_data"
    }
   ],
   "source": [
    "fig = plt.figure(figsize=(15,10))\n",
    "cities = set(i['city'] for i in processed_posts if i['city'])\n",
    "X, Y = zip(*[(i,mean([j['length'] for j in processed_posts if j['city']==i])) for i in cities])\n",
    "plt.bar(range(len(X)),Y, figure = fig)\n",
    "plt.xlabel(\"Город\")\n",
    "plt.ylabel(\"Средняя длина поста, слов\")\n",
    "plt.xticks(range(len(X)),X)\n",
    "plt.savefig('city-post.png')\n",
    "plt.show()"
   ]
  },
  {
   "cell_type": "markdown",
   "metadata": {},
   "source": [
    "Так как городов, в которых проживают авторы комментариев, очень много, покажем на графике 20\n",
    "городов с самой высокой средней длиной поста"
   ]
  },
  {
   "cell_type": "code",
   "execution_count": 59,
   "metadata": {},
   "outputs": [
    {
     "data": {
      "image/png": "[encoded data removed]",
      "text/plain": [
       "<matplotlib.figure.Figure at 0x19dacda0>"
      ]
     },
     "metadata": {},
     "output_type": "display_data"
    }
   ],
   "source": [
    "fig = plt.figure(figsize=(15,10))\n",
    "cities = set(i['city'] for i in all_comments if i['city'])\n",
    "XY = {i: mean([j['length'] for j in all_comments if j['city']==i]) for i in cities}\n",
    "X = sorted(XY, key = lambda m:-XY[m])[:20]\n",
    "Y = [XY[i] for i in X]\n",
    "plt.bar(range(len(X)),Y, figure = fig)\n",
    "plt.xlabel(\"Город\")\n",
    "plt.ylabel(\"Средняя длина комментария, слов\")\n",
    "plt.xticks(range(len(X)),X, rotation='vertical')\n",
    "plt.savefig('city-comment.png')\n",
    "plt.show()"
   ]
  }
 ],
 "metadata": {
  "kernelspec": {
   "display_name": "Python 3",
   "language": "python",
   "name": "python3"
  },
  "language_info": {
   "codemirror_mode": {
    "name": "ipython",
    "version": 3
   },
   "file_extension": ".py",
   "mimetype": "text/x-python",
   "name": "python",
   "nbconvert_exporter": "python",
   "pygments_lexer": "ipython3",
   "version": "3.6.0"
  }
 },
 "nbformat": 4,
 "nbformat_minor": 2
}
