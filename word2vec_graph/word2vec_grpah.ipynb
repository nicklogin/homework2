{
 "cells": [
  {
   "cell_type": "code",
   "execution_count": 2,
   "metadata": {
    "collapsed": true
   },
   "outputs": [],
   "source": [
    "import networkx"
   ]
  },
  {
   "cell_type": "markdown",
   "metadata": {},
   "source": [
    "Загрузим модель:"
   ]
  },
  {
   "cell_type": "code",
   "execution_count": 3,
   "metadata": {},
   "outputs": [
    {
     "name": "stderr",
     "output_type": "stream",
     "text": [
      "c:\\users\\никита\\appdata\\local\\programs\\python\\python36\\lib\\site-packages\\gensim\\utils.py:860: UserWarning: detected Windows; aliasing chunkize to chunkize_serial\n",
      "  warnings.warn(\"detected Windows; aliasing chunkize to chunkize_serial\")\n"
     ]
    }
   ],
   "source": [
    "import gensim"
   ]
  },
  {
   "cell_type": "code",
   "execution_count": 4,
   "metadata": {
    "collapsed": true
   },
   "outputs": [],
   "source": [
    "model_path = 'ruscorpora_upos_skipgram_300_5_2018.vec.gz'"
   ]
  },
  {
   "cell_type": "code",
   "execution_count": 5,
   "metadata": {
    "collapsed": true
   },
   "outputs": [],
   "source": [
    "model = gensim.models.KeyedVectors.load_word2vec_format(model_path, binary=False)"
   ]
  },
  {
   "cell_type": "code",
   "execution_count": 6,
   "metadata": {
    "collapsed": true
   },
   "outputs": [],
   "source": [
    "model.init_sims(replace=True)"
   ]
  },
  {
   "cell_type": "markdown",
   "metadata": {},
   "source": [
    "Возьмём семантическое поле <i>Наука</i>."
   ]
  },
  {
   "cell_type": "code",
   "execution_count": 27,
   "metadata": {
    "collapsed": true
   },
   "outputs": [],
   "source": [
    "sem_field = ['наука_NOUN','ученый_NOUN','эксперимент_NOUN','гипотеза_NOUN','теория_NOUN','аксиома_NOUN',\n",
    "            'эмпирический_ADJ','теоретический_ADJ','метод_NOUN','факт_NOUN','критерий_NOUN',\n",
    "            'закон_NOUN','постулат_NOUN',\"университет_NOUN\",\"научный_ADJ\",\"фактический_ADJ\",\n",
    "            \"грант_NOUN\",\"конференция_NOUN\",\"исследователь_NOUN\",\"исследование_NOUN\",\"аспирантура_NOUN\",\n",
    "             \"докторантура_NOUN\",\"институт_NOUN\",\"исследовательский_ADJ\",\"проект_NOUN\",\"феномен_NOUN\",\"диссертация_NOUN\"]"
   ]
  },
  {
   "cell_type": "markdown",
   "metadata": {},
   "source": [
    "Создадим граф с рёбрами - словами семантического поля:"
   ]
  },
  {
   "cell_type": "code",
   "execution_count": 45,
   "metadata": {
    "collapsed": true
   },
   "outputs": [],
   "source": [
    "sem_graph = networkx.Graph()\n",
    "sem_graph.add_nodes_from(sem_field)"
   ]
  },
  {
   "cell_type": "markdown",
   "metadata": {},
   "source": [
    "Добавим рёбра между словами, косинусная близость между которыми выше 0.5:"
   ]
  },
  {
   "cell_type": "code",
   "execution_count": 46,
   "metadata": {},
   "outputs": [
    {
     "name": "stdout",
     "output_type": "stream",
     "text": [
      "наука_NOUN ученый_NOUN 0.5809911404030221\n",
      "наука_NOUN эксперимент_NOUN 0.3530056395785648\n",
      "наука_NOUN гипотеза_NOUN 0.3890126009674255\n",
      "наука_NOUN теория_NOUN 0.5167943265735938\n",
      "наука_NOUN аксиома_NOUN 0.3649866136898107\n",
      "наука_NOUN эмпирический_ADJ 0.4373506703587028\n",
      "наука_NOUN теоретический_ADJ 0.5620606103966173\n",
      "наука_NOUN метод_NOUN 0.3641978405062491\n",
      "наука_NOUN факт_NOUN 0.3242302036851724\n",
      "наука_NOUN критерий_NOUN 0.25321399832440933\n",
      "наука_NOUN закон_NOUN 0.3715564940542534\n",
      "наука_NOUN постулат_NOUN 0.3496016483749531\n",
      "наука_NOUN университет_NOUN 0.45718267729801276\n",
      "наука_NOUN научный_ADJ 0.6245389623936689\n",
      "наука_NOUN фактический_ADJ 0.26734944876161115\n",
      "наука_NOUN грант_NOUN 0.2825462569222121\n",
      "наука_NOUN конференция_NOUN 0.2588640021221642\n",
      "наука_NOUN исследователь_NOUN 0.41595285749838146\n",
      "наука_NOUN исследование_NOUN 0.4947619153234712\n",
      "наука_NOUN аспирантура_NOUN 0.31259686219737226\n",
      "наука_NOUN докторантура_NOUN 0.43652276844148596\n",
      "наука_NOUN институт_NOUN 0.42446513731267527\n",
      "наука_NOUN исследовательский_ADJ 0.4122168832159653\n",
      "наука_NOUN проект_NOUN 0.23149631951267724\n",
      "наука_NOUN феномен_NOUN 0.3462686012346663\n",
      "наука_NOUN диссертация_NOUN 0.4071366510391181\n",
      "ученый_NOUN эксперимент_NOUN 0.4480487721105929\n",
      "ученый_NOUN гипотеза_NOUN 0.4534865241060184\n",
      "ученый_NOUN теория_NOUN 0.4154070845452984\n",
      "ученый_NOUN аксиома_NOUN 0.28029410699266477\n",
      "ученый_NOUN эмпирический_ADJ 0.3227184200073509\n",
      "ученый_NOUN теоретический_ADJ 0.4680421118160736\n",
      "ученый_NOUN метод_NOUN 0.3669141156480401\n",
      "ученый_NOUN факт_NOUN 0.3221527166455772\n",
      "ученый_NOUN критерий_NOUN 0.24119221502276597\n",
      "ученый_NOUN закон_NOUN 0.24920900456298428\n",
      "ученый_NOUN постулат_NOUN 0.27380528831681594\n",
      "ученый_NOUN университет_NOUN 0.4406560041411538\n",
      "ученый_NOUN научный_ADJ 0.5909940336434685\n",
      "ученый_NOUN фактический_ADJ 0.22036721743076534\n",
      "ученый_NOUN грант_NOUN 0.3685976803511639\n",
      "ученый_NOUN конференция_NOUN 0.333205746423602\n",
      "ученый_NOUN исследователь_NOUN 0.7512742306513853\n",
      "ученый_NOUN исследование_NOUN 0.5288836900125624\n",
      "ученый_NOUN аспирантура_NOUN 0.25111752715174424\n",
      "ученый_NOUN докторантура_NOUN 0.4151083200821474\n",
      "ученый_NOUN институт_NOUN 0.3735520590871684\n",
      "ученый_NOUN исследовательский_ADJ 0.525599681593901\n",
      "ученый_NOUN проект_NOUN 0.31925511926241207\n",
      "ученый_NOUN феномен_NOUN 0.3723229137936003\n",
      "ученый_NOUN диссертация_NOUN 0.3928641926224577\n",
      "эксперимент_NOUN гипотеза_NOUN 0.47763788874538055\n",
      "эксперимент_NOUN теория_NOUN 0.42650881344789243\n",
      "эксперимент_NOUN аксиома_NOUN 0.33247287090671673\n",
      "эксперимент_NOUN эмпирический_ADJ 0.41730270510249473\n",
      "эксперимент_NOUN теоретический_ADJ 0.45199223665949506\n",
      "эксперимент_NOUN метод_NOUN 0.5024189577676692\n",
      "эксперимент_NOUN факт_NOUN 0.3994203409003234\n",
      "эксперимент_NOUN критерий_NOUN 0.35450402419645166\n",
      "эксперимент_NOUN закон_NOUN 0.2511119405897152\n",
      "эксперимент_NOUN постулат_NOUN 0.36528896895216967\n",
      "эксперимент_NOUN университет_NOUN 0.2280560527467056\n",
      "эксперимент_NOUN научный_ADJ 0.44034868587725895\n",
      "эксперимент_NOUN фактический_ADJ 0.30900789442622945\n",
      "эксперимент_NOUN грант_NOUN 0.34825350649073095\n",
      "эксперимент_NOUN конференция_NOUN 0.2998662815662215\n",
      "эксперимент_NOUN исследователь_NOUN 0.4876189118671724\n",
      "эксперимент_NOUN исследование_NOUN 0.6250007468613143\n",
      "эксперимент_NOUN аспирантура_NOUN 0.20828769745356684\n",
      "эксперимент_NOUN докторантура_NOUN 0.3338307772192835\n",
      "эксперимент_NOUN институт_NOUN 0.28032512570580814\n",
      "эксперимент_NOUN исследовательский_ADJ 0.5108076702829676\n",
      "эксперимент_NOUN проект_NOUN 0.3563228129141214\n",
      "эксперимент_NOUN феномен_NOUN 0.39151420925171354\n",
      "эксперимент_NOUN диссертация_NOUN 0.25752621354493044\n",
      "гипотеза_NOUN теория_NOUN 0.678505870230645\n",
      "гипотеза_NOUN аксиома_NOUN 0.5188438007516266\n",
      "гипотеза_NOUN эмпирический_ADJ 0.4839034657380725\n",
      "гипотеза_NOUN теоретический_ADJ 0.5268006638459019\n",
      "гипотеза_NOUN метод_NOUN 0.42607866338433054\n",
      "гипотеза_NOUN факт_NOUN 0.5036306738202678\n",
      "гипотеза_NOUN критерий_NOUN 0.41267031363627593\n",
      "гипотеза_NOUN закон_NOUN 0.31585225158653013\n",
      "гипотеза_NOUN постулат_NOUN 0.5551494740815994\n",
      "гипотеза_NOUN университет_NOUN 0.22779934821200312\n",
      "гипотеза_NOUN научный_ADJ 0.44889498705053466\n",
      "гипотеза_NOUN фактический_ADJ 0.3227401522407105\n",
      "гипотеза_NOUN грант_NOUN 0.2207637252210557\n",
      "гипотеза_NOUN конференция_NOUN 0.23940185671958464\n",
      "гипотеза_NOUN исследователь_NOUN 0.5015393587066054\n",
      "гипотеза_NOUN исследование_NOUN 0.49212556165773225\n",
      "гипотеза_NOUN аспирантура_NOUN 0.20009068017161358\n",
      "гипотеза_NOUN докторантура_NOUN 0.2936914386808307\n",
      "гипотеза_NOUN институт_NOUN 0.18464391797375293\n",
      "гипотеза_NOUN исследовательский_ADJ 0.349161656679488\n",
      "гипотеза_NOUN проект_NOUN 0.36251969992557165\n",
      "гипотеза_NOUN феномен_NOUN 0.4865494647546453\n",
      "гипотеза_NOUN диссертация_NOUN 0.3373448804682319\n",
      "теория_NOUN аксиома_NOUN 0.5109167975049463\n",
      "теория_NOUN эмпирический_ADJ 0.5487617657289123\n",
      "теория_NOUN теоретический_ADJ 0.6961792636001138\n",
      "теория_NOUN метод_NOUN 0.5364027760646103\n",
      "теория_NOUN факт_NOUN 0.4279616930713145\n",
      "теория_NOUN критерий_NOUN 0.4370931884031315\n",
      "теория_NOUN закон_NOUN 0.3830234331660513\n",
      "теория_NOUN постулат_NOUN 0.6021391801475641\n",
      "теория_NOUN университет_NOUN 0.29097320688398176\n",
      "теория_NOUN научный_ADJ 0.4879028032260342\n",
      "теория_NOUN фактический_ADJ 0.34968999090618796\n",
      "теория_NOUN грант_NOUN 0.22012378036779567\n",
      "теория_NOUN конференция_NOUN 0.2532281914206467\n",
      "теория_NOUN исследователь_NOUN 0.4593683695758557\n",
      "теория_NOUN исследование_NOUN 0.4966081854591787\n",
      "теория_NOUN аспирантура_NOUN 0.2501502793416804\n",
      "теория_NOUN докторантура_NOUN 0.3387957073582544\n",
      "теория_NOUN институт_NOUN 0.2899113834291096\n",
      "теория_NOUN исследовательский_ADJ 0.3979038584237899\n",
      "теория_NOUN проект_NOUN 0.3128470230009747\n",
      "теория_NOUN феномен_NOUN 0.4957386773404237\n",
      "теория_NOUN диссертация_NOUN 0.37745057572517293\n",
      "аксиома_NOUN эмпирический_ADJ 0.48675309166648184\n",
      "аксиома_NOUN теоретический_ADJ 0.4589278148493392\n",
      "аксиома_NOUN метод_NOUN 0.38067472992139956\n",
      "аксиома_NOUN факт_NOUN 0.4294469593421353\n",
      "аксиома_NOUN критерий_NOUN 0.5065205217345947\n",
      "аксиома_NOUN закон_NOUN 0.43064329460504047\n",
      "аксиома_NOUN постулат_NOUN 0.6738825319298554\n",
      "аксиома_NOUN университет_NOUN 0.21153001838420013\n",
      "аксиома_NOUN научный_ADJ 0.2937679330063582\n",
      "аксиома_NOUN фактический_ADJ 0.30150712907497523\n",
      "аксиома_NOUN грант_NOUN 0.10284672670615108\n",
      "аксиома_NOUN конференция_NOUN 0.15786226400790757\n",
      "аксиома_NOUN исследователь_NOUN 0.30782544177477156\n",
      "аксиома_NOUN исследование_NOUN 0.3285889966829462\n",
      "аксиома_NOUN аспирантура_NOUN 0.15699548356031617\n",
      "аксиома_NOUN докторантура_NOUN 0.2312048751870044\n",
      "аксиома_NOUN институт_NOUN 0.18426304563083756\n",
      "аксиома_NOUN исследовательский_ADJ 0.19095289596673107\n",
      "аксиома_NOUN проект_NOUN 0.16017730769490457\n",
      "аксиома_NOUN феномен_NOUN 0.38313746839029894\n",
      "аксиома_NOUN диссертация_NOUN 0.20631921808772719\n",
      "эмпирический_ADJ теоретический_ADJ 0.6516670560985007\n",
      "эмпирический_ADJ метод_NOUN 0.4049866126870243\n",
      "эмпирический_ADJ факт_NOUN 0.4892960493095291\n",
      "эмпирический_ADJ критерий_NOUN 0.511447593698884\n",
      "эмпирический_ADJ закон_NOUN 0.346984707395787\n",
      "эмпирический_ADJ постулат_NOUN 0.5191824940423578\n",
      "эмпирический_ADJ университет_NOUN 0.2164716053927457\n",
      "эмпирический_ADJ научный_ADJ 0.5009482706175182\n",
      "эмпирический_ADJ фактический_ADJ 0.5465709590637202\n",
      "эмпирический_ADJ грант_NOUN 0.22613547078345853\n",
      "эмпирический_ADJ конференция_NOUN 0.20213185476071321\n",
      "эмпирический_ADJ исследователь_NOUN 0.422452880365089\n",
      "эмпирический_ADJ исследование_NOUN 0.49921540879764936\n",
      "эмпирический_ADJ аспирантура_NOUN 0.2073567405552153\n",
      "эмпирический_ADJ докторантура_NOUN 0.2913000112415115\n",
      "эмпирический_ADJ институт_NOUN 0.19698230457947657\n",
      "эмпирический_ADJ исследовательский_ADJ 0.4350427208883428\n",
      "эмпирический_ADJ проект_NOUN 0.18581525539356628\n",
      "эмпирический_ADJ феномен_NOUN 0.46125442311751996\n",
      "эмпирический_ADJ диссертация_NOUN 0.28940276841498225\n",
      "теоретический_ADJ метод_NOUN 0.47380087882023986\n",
      "теоретический_ADJ факт_NOUN 0.4271320800149639\n",
      "теоретический_ADJ критерий_NOUN 0.416272488182361\n",
      "теоретический_ADJ закон_NOUN 0.33740443449995855\n",
      "теоретический_ADJ постулат_NOUN 0.5069237839099415\n",
      "теоретический_ADJ университет_NOUN 0.3246928160004258\n",
      "теоретический_ADJ научный_ADJ 0.6936476714998119\n",
      "теоретический_ADJ фактический_ADJ 0.5043639371897111\n",
      "теоретический_ADJ грант_NOUN 0.2674014314727363\n",
      "теоретический_ADJ конференция_NOUN 0.381469828869782\n",
      "теоретический_ADJ исследователь_NOUN 0.461112717677291\n",
      "теоретический_ADJ исследование_NOUN 0.5416497505956576\n",
      "теоретический_ADJ аспирантура_NOUN 0.32990986175486803\n",
      "теоретический_ADJ докторантура_NOUN 0.4380110968377648\n",
      "теоретический_ADJ институт_NOUN 0.3301530485719365\n",
      "теоретический_ADJ исследовательский_ADJ 0.542499837033805\n"
     ]
    },
    {
     "name": "stdout",
     "output_type": "stream",
     "text": [
      "теоретический_ADJ проект_NOUN 0.31368059205687526\n",
      "теоретический_ADJ феномен_NOUN 0.4061461593030924\n",
      "теоретический_ADJ диссертация_NOUN 0.4161613571907495\n",
      "метод_NOUN факт_NOUN 0.331523956097355\n",
      "метод_NOUN критерий_NOUN 0.4796077454854418\n",
      "метод_NOUN закон_NOUN 0.3035081367933095\n",
      "метод_NOUN постулат_NOUN 0.3857573577523911\n",
      "метод_NOUN университет_NOUN 0.1964076913532965\n",
      "метод_NOUN научный_ADJ 0.38535103400578474\n",
      "метод_NOUN фактический_ADJ 0.335045503245547\n",
      "метод_NOUN грант_NOUN 0.2528328841019374\n",
      "метод_NOUN конференция_NOUN 0.23509080719034842\n",
      "метод_NOUN исследователь_NOUN 0.40593706233717997\n",
      "метод_NOUN исследование_NOUN 0.5084370300829482\n",
      "метод_NOUN аспирантура_NOUN 0.1699110648850437\n",
      "метод_NOUN докторантура_NOUN 0.3318403510946898\n",
      "метод_NOUN институт_NOUN 0.2667368191309015\n",
      "метод_NOUN исследовательский_ADJ 0.37958396851498827\n",
      "метод_NOUN проект_NOUN 0.28259504788221623\n",
      "метод_NOUN феномен_NOUN 0.37846751757292185\n",
      "метод_NOUN диссертация_NOUN 0.2740484311299676\n",
      "факт_NOUN критерий_NOUN 0.3947951290247025\n",
      "факт_NOUN закон_NOUN 0.34695688103597366\n",
      "факт_NOUN постулат_NOUN 0.43012247068377374\n",
      "факт_NOUN университет_NOUN 0.20880215319074066\n",
      "факт_NOUN научный_ADJ 0.3741827662691608\n",
      "факт_NOUN фактический_ADJ 0.559269195424621\n",
      "факт_NOUN грант_NOUN 0.15982892162835427\n",
      "факт_NOUN конференция_NOUN 0.19773941999788236\n",
      "факт_NOUN исследователь_NOUN 0.40213768651526005\n",
      "факт_NOUN исследование_NOUN 0.3873343230691393\n",
      "факт_NOUN аспирантура_NOUN 0.19529721473990852\n",
      "факт_NOUN докторантура_NOUN 0.23913342323974557\n",
      "факт_NOUN институт_NOUN 0.18713643458314638\n",
      "факт_NOUN исследовательский_ADJ 0.31253677121880463\n",
      "факт_NOUN проект_NOUN 0.23903243561660292\n",
      "факт_NOUN феномен_NOUN 0.4908587477379825\n",
      "факт_NOUN диссертация_NOUN 0.21783505722538185\n",
      "критерий_NOUN закон_NOUN 0.3817674111464801\n",
      "критерий_NOUN постулат_NOUN 0.5305917255318221\n",
      "критерий_NOUN университет_NOUN 0.16320409727087715\n",
      "критерий_NOUN научный_ADJ 0.36358196031439793\n",
      "критерий_NOUN фактический_ADJ 0.4179032445707331\n",
      "критерий_NOUN грант_NOUN 0.26088931849229696\n",
      "критерий_NOUN конференция_NOUN 0.2188384397957706\n",
      "критерий_NOUN исследователь_NOUN 0.3323481802709971\n",
      "критерий_NOUN исследование_NOUN 0.39589696465085883\n",
      "критерий_NOUN аспирантура_NOUN 0.19396472682761706\n",
      "критерий_NOUN докторантура_NOUN 0.3018021016127521\n",
      "критерий_NOUN институт_NOUN 0.19785765247721632\n",
      "критерий_NOUN исследовательский_ADJ 0.34265837064107385\n",
      "критерий_NOUN проект_NOUN 0.3054139659132064\n",
      "критерий_NOUN феномен_NOUN 0.4162906760470483\n",
      "критерий_NOUN диссертация_NOUN 0.20313848706358006\n",
      "закон_NOUN постулат_NOUN 0.48731291283491385\n",
      "закон_NOUN университет_NOUN 0.21758389158832467\n",
      "закон_NOUN научный_ADJ 0.27416856192703964\n",
      "закон_NOUN фактический_ADJ 0.306619590053142\n",
      "закон_NOUN грант_NOUN 0.204082725380411\n",
      "закон_NOUN конференция_NOUN 0.2011443119951348\n",
      "закон_NOUN исследователь_NOUN 0.19313449141588723\n",
      "закон_NOUN исследование_NOUN 0.2705255332161009\n",
      "закон_NOUN аспирантура_NOUN 0.11672870492517945\n",
      "закон_NOUN докторантура_NOUN 0.23692492658194167\n",
      "закон_NOUN институт_NOUN 0.19650015492442569\n",
      "закон_NOUN исследовательский_ADJ 0.15456685036950296\n",
      "закон_NOUN проект_NOUN 0.2527698623862761\n",
      "закон_NOUN феномен_NOUN 0.3088697015815945\n",
      "закон_NOUN диссертация_NOUN 0.21192319612844907\n",
      "постулат_NOUN университет_NOUN 0.21324576311175564\n",
      "постулат_NOUN научный_ADJ 0.34850342011957414\n",
      "постулат_NOUN фактический_ADJ 0.30329489607185933\n",
      "постулат_NOUN грант_NOUN 0.16280231516396448\n",
      "постулат_NOUN конференция_NOUN 0.26689283003687714\n",
      "постулат_NOUN исследователь_NOUN 0.32029402683577823\n",
      "постулат_NOUN исследование_NOUN 0.30156753973937267\n",
      "постулат_NOUN аспирантура_NOUN 0.16418573862161595\n",
      "постулат_NOUN докторантура_NOUN 0.24150059447620073\n",
      "постулат_NOUN институт_NOUN 0.21242315362754263\n",
      "постулат_NOUN исследовательский_ADJ 0.2744426981721905\n",
      "постулат_NOUN проект_NOUN 0.29150975445284144\n",
      "постулат_NOUN феномен_NOUN 0.5102133089686334\n",
      "постулат_NOUN диссертация_NOUN 0.22786967301132754\n",
      "университет_NOUN научный_ADJ 0.41424219279134483\n",
      "университет_NOUN фактический_ADJ 0.16131833607329113\n",
      "университет_NOUN грант_NOUN 0.3416223331480867\n",
      "университет_NOUN конференция_NOUN 0.3228780767514233\n",
      "университет_NOUN исследователь_NOUN 0.31718595291680274\n",
      "университет_NOUN исследование_NOUN 0.327140383162409\n",
      "университет_NOUN аспирантура_NOUN 0.6298971993962379\n",
      "университет_NOUN докторантура_NOUN 0.6603296677378887\n",
      "университет_NOUN институт_NOUN 0.7033091691096267\n",
      "университет_NOUN исследовательский_ADJ 0.40218325221746054\n",
      "университет_NOUN проект_NOUN 0.29173875687245576\n",
      "университет_NOUN феномен_NOUN 0.2272664503940714\n",
      "университет_NOUN диссертация_NOUN 0.5374361249243913\n",
      "научный_ADJ фактический_ADJ 0.37976801112180136\n",
      "научный_ADJ грант_NOUN 0.39064304185250076\n",
      "научный_ADJ конференция_NOUN 0.40056303764491485\n",
      "научный_ADJ исследователь_NOUN 0.5326421762459594\n",
      "научный_ADJ исследование_NOUN 0.5833839032829468\n",
      "научный_ADJ аспирантура_NOUN 0.36324793776478803\n",
      "научный_ADJ докторантура_NOUN 0.4538313625124918\n",
      "научный_ADJ институт_NOUN 0.45366032235944187\n",
      "научный_ADJ исследовательский_ADJ 0.7240480016260853\n",
      "научный_ADJ проект_NOUN 0.32868407119257115\n",
      "научный_ADJ феномен_NOUN 0.34756619242341097\n",
      "научный_ADJ диссертация_NOUN 0.46614364128823826\n",
      "фактический_ADJ грант_NOUN 0.14211696188647283\n",
      "фактический_ADJ конференция_NOUN 0.20795810487389274\n",
      "фактический_ADJ исследователь_NOUN 0.2810048469668491\n",
      "фактический_ADJ исследование_NOUN 0.35027594731044887\n",
      "фактический_ADJ аспирантура_NOUN 0.1617702578158565\n",
      "фактический_ADJ докторантура_NOUN 0.2498094446158714\n",
      "фактический_ADJ институт_NOUN 0.19926613630139348\n",
      "фактический_ADJ исследовательский_ADJ 0.29014975852954145\n",
      "фактический_ADJ проект_NOUN 0.24675755756940693\n",
      "фактический_ADJ феномен_NOUN 0.22532910907923404\n",
      "фактический_ADJ диссертация_NOUN 0.17932631160222137\n",
      "грант_NOUN конференция_NOUN 0.30684748767478787\n",
      "грант_NOUN исследователь_NOUN 0.2498774707798011\n",
      "грант_NOUN исследование_NOUN 0.3339051665781869\n",
      "грант_NOUN аспирантура_NOUN 0.41127520998458506\n",
      "грант_NOUN докторантура_NOUN 0.4980505563336373\n",
      "грант_NOUN институт_NOUN 0.3675663162866022\n",
      "грант_NOUN исследовательский_ADJ 0.4445681376770306\n",
      "грант_NOUN проект_NOUN 0.43781303844900993\n",
      "грант_NOUN феномен_NOUN 0.2402552840997656\n",
      "грант_NOUN диссертация_NOUN 0.3880097058260866\n",
      "конференция_NOUN исследователь_NOUN 0.27794363457153504\n",
      "конференция_NOUN исследование_NOUN 0.36193254305248224\n",
      "конференция_NOUN аспирантура_NOUN 0.30379829016577375\n",
      "конференция_NOUN докторантура_NOUN 0.4255240242119219\n",
      "конференция_NOUN институт_NOUN 0.3804621305476916\n",
      "конференция_NOUN исследовательский_ADJ 0.3880297462261466\n",
      "конференция_NOUN проект_NOUN 0.3844438686357217\n",
      "конференция_NOUN феномен_NOUN 0.21924062463731805\n",
      "конференция_NOUN диссертация_NOUN 0.33320682903391075\n",
      "исследователь_NOUN исследование_NOUN 0.6825600576281771\n",
      "исследователь_NOUN аспирантура_NOUN 0.21468908862240144\n",
      "исследователь_NOUN докторантура_NOUN 0.33787283554594283\n",
      "исследователь_NOUN институт_NOUN 0.2662861723227046\n",
      "исследователь_NOUN исследовательский_ADJ 0.5999256015734161\n",
      "исследователь_NOUN проект_NOUN 0.2740892455440778\n",
      "исследователь_NOUN феномен_NOUN 0.47061914164195917\n",
      "исследователь_NOUN диссертация_NOUN 0.33210887666498623\n",
      "исследование_NOUN аспирантура_NOUN 0.2407903832243494\n",
      "исследование_NOUN докторантура_NOUN 0.40880319687352745\n",
      "исследование_NOUN институт_NOUN 0.352188267354983\n",
      "исследование_NOUN исследовательский_ADJ 0.680997725687008\n",
      "исследование_NOUN проект_NOUN 0.3834573247129748\n",
      "исследование_NOUN феномен_NOUN 0.4454164768870429\n",
      "исследование_NOUN диссертация_NOUN 0.440229307959524\n",
      "аспирантура_NOUN докторантура_NOUN 0.7123451045049786\n",
      "аспирантура_NOUN институт_NOUN 0.6017901746680595\n",
      "аспирантура_NOUN исследовательский_ADJ 0.34424084192491067\n",
      "аспирантура_NOUN проект_NOUN 0.2474627087366777\n",
      "аспирантура_NOUN феномен_NOUN 0.11757581154403629\n",
      "аспирантура_NOUN диссертация_NOUN 0.5872683517100332\n",
      "докторантура_NOUN институт_NOUN 0.6362329648961502\n",
      "докторантура_NOUN исследовательский_ADJ 0.4941422048102818\n",
      "докторантура_NOUN проект_NOUN 0.3931325912195313\n",
      "докторантура_NOUN феномен_NOUN 0.27194466720293103\n",
      "докторантура_NOUN диссертация_NOUN 0.5541873575032055\n",
      "институт_NOUN исследовательский_ADJ 0.4547337804478265\n",
      "институт_NOUN проект_NOUN 0.32639060201179715\n",
      "институт_NOUN феномен_NOUN 0.23503034673168843\n",
      "институт_NOUN диссертация_NOUN 0.45629583756074227\n",
      "исследовательский_ADJ проект_NOUN 0.42874826192147064\n",
      "исследовательский_ADJ феномен_NOUN 0.3661567743912366\n",
      "исследовательский_ADJ диссертация_NOUN 0.3621339632478697\n",
      "проект_NOUN феномен_NOUN 0.30409827642801757\n",
      "проект_NOUN диссертация_NOUN 0.3125360467869344\n",
      "феномен_NOUN диссертация_NOUN 0.24530960846450917\n"
     ]
    }
   ],
   "source": [
    "sem_field_copy = [i for i in sem_field[1:]]\n",
    "edges = []\n",
    "for word1 in sem_field:\n",
    "    for word2 in sem_field_copy:\n",
    "        closure = model.similarity(word1,word2)\n",
    "        print(word1,word2,closure)\n",
    "        if closure > 0.5:\n",
    "            edges.append((word1,word2))\n",
    "    if sem_field_copy:\n",
    "        sem_field_copy.pop(0)\n",
    "sem_graph.add_edges_from(edges)"
   ]
  },
  {
   "cell_type": "markdown",
   "metadata": {},
   "source": [
    "Посмотрим, какие рёбра есть в сети:"
   ]
  },
  {
   "cell_type": "code",
   "execution_count": 47,
   "metadata": {},
   "outputs": [
    {
     "data": {
      "text/plain": [
       "[('наука_NOUN', 'ученый_NOUN'),\n",
       " ('наука_NOUN', 'теория_NOUN'),\n",
       " ('наука_NOUN', 'теоретический_ADJ'),\n",
       " ('наука_NOUN', 'научный_ADJ'),\n",
       " ('ученый_NOUN', 'научный_ADJ'),\n",
       " ('ученый_NOUN', 'исследователь_NOUN'),\n",
       " ('ученый_NOUN', 'исследование_NOUN'),\n",
       " ('ученый_NOUN', 'исследовательский_ADJ'),\n",
       " ('эксперимент_NOUN', 'метод_NOUN'),\n",
       " ('эксперимент_NOUN', 'исследование_NOUN'),\n",
       " ('эксперимент_NOUN', 'исследовательский_ADJ'),\n",
       " ('гипотеза_NOUN', 'теория_NOUN'),\n",
       " ('гипотеза_NOUN', 'аксиома_NOUN'),\n",
       " ('гипотеза_NOUN', 'теоретический_ADJ'),\n",
       " ('гипотеза_NOUN', 'факт_NOUN'),\n",
       " ('гипотеза_NOUN', 'постулат_NOUN'),\n",
       " ('гипотеза_NOUN', 'исследователь_NOUN'),\n",
       " ('теория_NOUN', 'аксиома_NOUN'),\n",
       " ('теория_NOUN', 'эмпирический_ADJ'),\n",
       " ('теория_NOUN', 'теоретический_ADJ'),\n",
       " ('теория_NOUN', 'метод_NOUN'),\n",
       " ('теория_NOUN', 'постулат_NOUN'),\n",
       " ('аксиома_NOUN', 'критерий_NOUN'),\n",
       " ('аксиома_NOUN', 'постулат_NOUN'),\n",
       " ('эмпирический_ADJ', 'теоретический_ADJ'),\n",
       " ('эмпирический_ADJ', 'критерий_NOUN'),\n",
       " ('эмпирический_ADJ', 'постулат_NOUN'),\n",
       " ('эмпирический_ADJ', 'научный_ADJ'),\n",
       " ('эмпирический_ADJ', 'фактический_ADJ'),\n",
       " ('теоретический_ADJ', 'постулат_NOUN'),\n",
       " ('теоретический_ADJ', 'научный_ADJ'),\n",
       " ('теоретический_ADJ', 'фактический_ADJ'),\n",
       " ('теоретический_ADJ', 'исследование_NOUN'),\n",
       " ('теоретический_ADJ', 'исследовательский_ADJ'),\n",
       " ('метод_NOUN', 'исследование_NOUN'),\n",
       " ('факт_NOUN', 'фактический_ADJ'),\n",
       " ('критерий_NOUN', 'постулат_NOUN'),\n",
       " ('постулат_NOUN', 'феномен_NOUN'),\n",
       " ('университет_NOUN', 'аспирантура_NOUN'),\n",
       " ('университет_NOUN', 'докторантура_NOUN'),\n",
       " ('университет_NOUN', 'институт_NOUN'),\n",
       " ('университет_NOUN', 'диссертация_NOUN'),\n",
       " ('научный_ADJ', 'исследователь_NOUN'),\n",
       " ('научный_ADJ', 'исследование_NOUN'),\n",
       " ('научный_ADJ', 'исследовательский_ADJ'),\n",
       " ('исследователь_NOUN', 'исследование_NOUN'),\n",
       " ('исследователь_NOUN', 'исследовательский_ADJ'),\n",
       " ('исследование_NOUN', 'исследовательский_ADJ'),\n",
       " ('аспирантура_NOUN', 'докторантура_NOUN'),\n",
       " ('аспирантура_NOUN', 'институт_NOUN'),\n",
       " ('аспирантура_NOUN', 'диссертация_NOUN'),\n",
       " ('докторантура_NOUN', 'институт_NOUN'),\n",
       " ('докторантура_NOUN', 'диссертация_NOUN')]"
      ]
     },
     "execution_count": 47,
     "metadata": {},
     "output_type": "execute_result"
    }
   ],
   "source": [
    "sem_graph.edges()"
   ]
  },
  {
   "cell_type": "markdown",
   "metadata": {},
   "source": [
    "Также выведем графическое представление сети:"
   ]
  },
  {
   "cell_type": "code",
   "execution_count": 48,
   "metadata": {},
   "outputs": [
    {
     "data": {
      "image/png": "[encoded data removed]",
      "text/plain": [
       "<matplotlib.figure.Figure at 0x1ca5b470>"
      ]
     },
     "metadata": {},
     "output_type": "display_data"
    }
   ],
   "source": [
    "import matplotlib.pyplot as plt\n",
    "plt.figure(figsize=(15,15))\n",
    "pos = networkx.spring_layout(sem_graph)\n",
    "networkx.draw_networkx_nodes(sem_graph, pos, node_color='red', node_size=10) \n",
    "networkx.draw_networkx_edges(sem_graph, pos, edge_color='yellow')\n",
    "networkx.draw_networkx_labels(sem_graph, pos, font_size=10, font_family='Arial')\n",
    "plt.axis('off') \n",
    "plt.show()"
   ]
  },
  {
   "cell_type": "markdown",
   "metadata": {},
   "source": [
    "Можно заметить, что на графе выделяются две компоненты связности - одна, содержащая слова, связанные с методологией науки и другая - связанная с огранизационной структурой научных учреждений и системой высшего образования."
   ]
  },
  {
   "cell_type": "markdown",
   "metadata": {},
   "source": [
    "Найдём центральные слова графа, рассчитав для каждого слова степень централизации:"
   ]
  },
  {
   "cell_type": "code",
   "execution_count": 49,
   "metadata": {},
   "outputs": [
    {
     "name": "stdout",
     "output_type": "stream",
     "text": [
      "теоретический_ADJ 0.34615384615384615\n",
      "теория_NOUN 0.2692307692307693\n",
      "постулат_NOUN 0.2692307692307693\n",
      "научный_ADJ 0.2692307692307693\n",
      "исследование_NOUN 0.2692307692307693\n",
      "гипотеза_NOUN 0.23076923076923078\n",
      "эмпирический_ADJ 0.23076923076923078\n",
      "исследовательский_ADJ 0.23076923076923078\n",
      "ученый_NOUN 0.19230769230769232\n",
      "исследователь_NOUN 0.19230769230769232\n",
      "наука_NOUN 0.15384615384615385\n",
      "аксиома_NOUN 0.15384615384615385\n",
      "университет_NOUN 0.15384615384615385\n",
      "аспирантура_NOUN 0.15384615384615385\n",
      "докторантура_NOUN 0.15384615384615385\n",
      "эксперимент_NOUN 0.11538461538461539\n",
      "метод_NOUN 0.11538461538461539\n",
      "критерий_NOUN 0.11538461538461539\n",
      "фактический_ADJ 0.11538461538461539\n",
      "институт_NOUN 0.11538461538461539\n",
      "диссертация_NOUN 0.11538461538461539\n",
      "факт_NOUN 0.07692307692307693\n",
      "феномен_NOUN 0.038461538461538464\n",
      "закон_NOUN 0.0\n",
      "грант_NOUN 0.0\n",
      "конференция_NOUN 0.0\n",
      "проект_NOUN 0.0\n"
     ]
    }
   ],
   "source": [
    "deg = networkx.degree_centrality(sem_graph)\n",
    "for i in sorted(deg, key = lambda x: deg[x], reverse = True):\n",
    "    print(i,deg[i])"
   ]
  },
  {
   "cell_type": "markdown",
   "metadata": {},
   "source": [
    "Вычленим из графа компоненты связности:"
   ]
  },
  {
   "cell_type": "code",
   "execution_count": 50,
   "metadata": {
    "collapsed": true
   },
   "outputs": [],
   "source": [
    "connected_components = [i for i in networkx.connected_component_subgraphs(sem_graph) if len(i.nodes())>1]"
   ]
  },
  {
   "cell_type": "markdown",
   "metadata": {},
   "source": [
    "Сколько их получилось?"
   ]
  },
  {
   "cell_type": "code",
   "execution_count": 51,
   "metadata": {},
   "outputs": [
    {
     "data": {
      "text/plain": [
       "2"
      ]
     },
     "execution_count": 51,
     "metadata": {},
     "output_type": "execute_result"
    }
   ],
   "source": [
    "len(connected_components)"
   ]
  },
  {
   "cell_type": "markdown",
   "metadata": {},
   "source": [
    "Найдём для каждой компоненты связности радиус и средний коэффициент кластеризации:"
   ]
  },
  {
   "cell_type": "code",
   "execution_count": 52,
   "metadata": {},
   "outputs": [
    {
     "name": "stdout",
     "output_type": "stream",
     "text": [
      "Радиус\tСредний коэффициент кластеризации\n",
      "2\t0.44126984126984126\n",
      "1\t0.9\n"
     ]
    }
   ],
   "source": [
    "print('Радиус',\"Средний коэффициент кластеризации\", sep='\\t')\n",
    "for component in connected_components:\n",
    "    print(networkx.radius(component), networkx.average_clustering(component),sep='\\t')"
   ]
  },
  {
   "cell_type": "code",
   "execution_count": null,
   "metadata": {
    "collapsed": true
   },
   "outputs": [],
   "source": []
  }
 ],
 "metadata": {
  "kernelspec": {
   "display_name": "Python 3",
   "language": "python",
   "name": "python3"
  },
  "language_info": {
   "codemirror_mode": {
    "name": "ipython",
    "version": 3
   },
   "file_extension": ".py",
   "mimetype": "text/x-python",
   "name": "python",
   "nbconvert_exporter": "python",
   "pygments_lexer": "ipython3",
   "version": "3.6.0"
  }
 },
 "nbformat": 4,
 "nbformat_minor": 2
}
