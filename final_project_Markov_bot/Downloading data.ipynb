{
 "cells": [
  {
   "cell_type": "code",
   "execution_count": 1,
   "metadata": {},
   "outputs": [],
   "source": [
    "import urllib.request"
   ]
  },
  {
   "cell_type": "markdown",
   "metadata": {},
   "source": [
    "Используем сценарии сериала \"Звёздный путь: Оригинальный сериал\""
   ]
  },
  {
   "cell_type": "code",
   "execution_count": 2,
   "metadata": {},
   "outputs": [],
   "source": [
    "page_base = 'https://www.springfieldspringfield.co.uk/view_episode_scripts.php?tv-show=star-trek-1966'"
   ]
  },
  {
   "cell_type": "code",
   "execution_count": 3,
   "metadata": {},
   "outputs": [],
   "source": [
    "page_base += '&episode=s{}e{}'"
   ]
  },
  {
   "cell_type": "markdown",
   "metadata": {},
   "source": [
    "Сохраним информацию о количестве эпизодов в каждом сезоне в формате: (номер сезона, номер первого эпизода в сезоне, номер последнего эпизода в сезоне)"
   ]
  },
  {
   "cell_type": "code",
   "execution_count": 10,
   "metadata": {},
   "outputs": [],
   "source": [
    "episode_numbers = [(1,0,29),(2,1,26),(3,1,24)]"
   ]
  },
  {
   "cell_type": "markdown",
   "metadata": {},
   "source": [
    "Определим регулярное выражение для вычленения из страницы сценария эпизода:"
   ]
  },
  {
   "cell_type": "code",
   "execution_count": 5,
   "metadata": {},
   "outputs": [],
   "source": [
    "import re"
   ]
  },
  {
   "cell_type": "code",
   "execution_count": 11,
   "metadata": {},
   "outputs": [],
   "source": [
    "re_episode_script = re.compile('<div class=\"scrolling-script-container\">(.*?)</div>',re.DOTALL)"
   ]
  },
  {
   "cell_type": "code",
   "execution_count": 12,
   "metadata": {},
   "outputs": [
    {
     "name": "stdout",
     "output_type": "stream",
     "text": [
      "01 00  -- ok!\n",
      "01 01  -- ok!\n",
      "01 02  -- ok!\n",
      "01 03  -- ok!\n",
      "01 04  -- ok!\n",
      "01 05  -- ok!\n",
      "01 06  -- ok!\n",
      "01 07  -- ok!\n",
      "01 08  -- ok!\n",
      "01 09  -- ok!\n",
      "01 10  -- ok!\n",
      "01 11  -- ok!\n",
      "01 12  -- ok!\n",
      "01 13  -- ok!\n",
      "01 14  -- ok!\n",
      "01 15  -- ok!\n",
      "01 16  -- ok!\n",
      "01 17  -- ok!\n",
      "01 18  -- ok!\n",
      "01 19  -- ok!\n",
      "01 20  -- ok!\n",
      "01 21  -- ok!\n",
      "01 22  -- ok!\n",
      "01 23  -- ok!\n",
      "01 24  -- ok!\n",
      "01 25  -- ok!\n",
      "01 26  -- ok!\n",
      "01 27  -- ok!\n",
      "01 28  -- ok!\n",
      "01 29  -- ok!\n",
      "02 01  -- ok!\n",
      "02 02  -- ok!\n",
      "02 03  -- ok!\n",
      "02 04  -- ok!\n",
      "02 05  -- ok!\n",
      "02 06  -- ok!\n",
      "02 07  -- ok!\n",
      "02 08  -- ok!\n",
      "02 09  -- ok!\n",
      "02 10  -- ok!\n",
      "02 11  -- ok!\n",
      "02 12  -- ok!\n",
      "02 13  -- ok!\n",
      "02 14  -- ok!\n",
      "02 15  -- ok!\n",
      "02 16  -- ok!\n",
      "02 17  -- ok!\n",
      "02 18  -- ok!\n",
      "02 19  -- ok!\n",
      "02 20  -- ok!\n",
      "02 21  -- ok!\n",
      "02 22  -- ok!\n",
      "02 23  -- ok!\n",
      "02 24  -- ok!\n",
      "02 25  -- ok!\n",
      "02 26  -- ok!\n",
      "03 01  -- ok!\n",
      "03 02  -- ok!\n",
      "03 03  -- ok!\n",
      "03 04  -- ok!\n",
      "03 05  -- ok!\n",
      "03 06  -- ok!\n",
      "03 07  -- ok!\n",
      "03 08  -- ok!\n",
      "03 09  -- ok!\n",
      "03 10  -- ok!\n",
      "03 11  -- ok!\n",
      "03 12  -- ok!\n",
      "03 13  -- ok!\n",
      "03 14  -- ok!\n",
      "03 15  -- ok!\n",
      "03 16  -- ok!\n",
      "03 17  -- ok!\n",
      "03 18  -- ok!\n",
      "03 19  -- ok!\n",
      "03 20  -- ok!\n",
      "03 21  -- ok!\n",
      "03 22  -- ok!\n",
      "03 23  -- ok!\n",
      "03 24  -- ok!\n"
     ]
    }
   ],
   "source": [
    "scripts = []\n",
    "\n",
    "for season in episode_numbers:\n",
    "    season_nmb,first_ep,last_ep = season\n",
    "    season_nmb = str(season_nmb).zfill(2)\n",
    "    for episode in range(first_ep, last_ep+1):\n",
    "        ep = str(episode).zfill(2)\n",
    "        page_addr = page_base.format(season_nmb,ep)\n",
    "        ##print(page_addr)\n",
    "        ##raise Exception\n",
    "        with urllib.request.urlopen(page_addr) as source:\n",
    "            pgtext = source.read().decode('utf-8')\n",
    "        ##print(pgtext)\n",
    "        print(season_nmb, ep, ' -- ok!')\n",
    "        script = re_episode_script.search(pgtext).group(0).strip()\n",
    "        scripts.append(script)"
   ]
  },
  {
   "cell_type": "markdown",
   "metadata": {},
   "source": [
    "Сохраним сценарии эпизодов в долговременную память:"
   ]
  },
  {
   "cell_type": "code",
   "execution_count": 13,
   "metadata": {},
   "outputs": [],
   "source": [
    "import json"
   ]
  },
  {
   "cell_type": "code",
   "execution_count": 14,
   "metadata": {},
   "outputs": [],
   "source": [
    "with open('sripts.json','w',encoding='utf-8') as outp:\n",
    "    json.dump(scripts, outp, ensure_ascii = False, indent = 4)"
   ]
  }
 ],
 "metadata": {
  "kernelspec": {
   "display_name": "Python 3.6",
   "language": "python",
   "name": "python36"
  },
  "language_info": {
   "codemirror_mode": {
    "name": "ipython",
    "version": 3
   },
   "file_extension": ".py",
   "mimetype": "text/x-python",
   "name": "python",
   "nbconvert_exporter": "python",
   "pygments_lexer": "ipython3",
   "version": "3.6.3"
  }
 },
 "nbformat": 4,
 "nbformat_minor": 2
}
